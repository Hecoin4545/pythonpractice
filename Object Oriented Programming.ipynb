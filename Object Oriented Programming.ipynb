{
 "cells": [
  {
   "cell_type": "code",
   "execution_count": 1,
   "id": "0baef87e",
   "metadata": {},
   "outputs": [],
   "source": [
    "class SampleClass():\n",
    "    pass"
   ]
  },
  {
   "cell_type": "code",
   "execution_count": 2,
   "id": "a1b51e70",
   "metadata": {},
   "outputs": [],
   "source": [
    "name = SampleClass()"
   ]
  },
  {
   "cell_type": "code",
   "execution_count": 3,
   "id": "e0fa8e10",
   "metadata": {},
   "outputs": [
    {
     "data": {
      "text/plain": [
       "__main__.SampleClass"
      ]
     },
     "execution_count": 3,
     "metadata": {},
     "output_type": "execute_result"
    }
   ],
   "source": [
    "type(name)"
   ]
  },
  {
   "cell_type": "code",
   "execution_count": 4,
   "id": "49d7b7f2",
   "metadata": {},
   "outputs": [],
   "source": [
    "# how we can create attributes"
   ]
  },
  {
   "cell_type": "code",
   "execution_count": 12,
   "id": "16fb517e",
   "metadata": {},
   "outputs": [],
   "source": [
    "class Attribute():\n",
    "    \n",
    "    def __init__(self,breed,names, spots):\n",
    "        self.breed = breed       \n",
    "        self.names = names \n",
    "        self.spots = spots"
   ]
  },
  {
   "cell_type": "code",
   "execution_count": 14,
   "id": "38055929",
   "metadata": {},
   "outputs": [],
   "source": [
    "my_dog = Attribute(breed='lab',names='mac',spots=True)"
   ]
  },
  {
   "cell_type": "code",
   "execution_count": 15,
   "id": "c17e85fd",
   "metadata": {},
   "outputs": [
    {
     "data": {
      "text/plain": [
       "__main__.Attribute"
      ]
     },
     "execution_count": 15,
     "metadata": {},
     "output_type": "execute_result"
    }
   ],
   "source": [
    "type(my_dog)"
   ]
  },
  {
   "cell_type": "code",
   "execution_count": 16,
   "id": "83a75381",
   "metadata": {},
   "outputs": [
    {
     "data": {
      "text/plain": [
       "True"
      ]
     },
     "execution_count": 16,
     "metadata": {},
     "output_type": "execute_result"
    }
   ],
   "source": [
    "my_dog.spots"
   ]
  },
  {
   "cell_type": "code",
   "execution_count": 17,
   "id": "d3cfee41",
   "metadata": {},
   "outputs": [],
   "source": [
    "# Methods in oop "
   ]
  },
  {
   "cell_type": "code",
   "execution_count": 25,
   "id": "b681db6f",
   "metadata": {},
   "outputs": [],
   "source": [
    "class MethodsAttri():\n",
    "    def __init__(self,breed,name):\n",
    "        self.breed = breed\n",
    "        self.name = name\n",
    "        \n",
    "#     Operation/actions \n",
    "    def bark(self,number):\n",
    "        print('bhow bhow {}{}'.format(self.name,number))"
   ]
  },
  {
   "cell_type": "code",
   "execution_count": 26,
   "id": "89c4ff28",
   "metadata": {},
   "outputs": [],
   "source": [
    "namee = MethodsAttri(breed='lab',name='rof')"
   ]
  },
  {
   "cell_type": "code",
   "execution_count": 27,
   "id": "d27dcefd",
   "metadata": {},
   "outputs": [
    {
     "data": {
      "text/plain": [
       "'lab'"
      ]
     },
     "execution_count": 27,
     "metadata": {},
     "output_type": "execute_result"
    }
   ],
   "source": [
    "namee.breed"
   ]
  },
  {
   "cell_type": "markdown",
   "id": "03c1543f",
   "metadata": {},
   "source": []
  },
  {
   "cell_type": "code",
   "execution_count": 29,
   "id": "af428c21",
   "metadata": {},
   "outputs": [
    {
     "name": "stdout",
     "output_type": "stream",
     "text": [
      "bhow bhow rof37\n"
     ]
    }
   ],
   "source": [
    "namee.bark(37)"
   ]
  },
  {
   "cell_type": "code",
   "execution_count": 38,
   "id": "466528d5",
   "metadata": {},
   "outputs": [],
   "source": [
    "class circle():\n",
    "    pi=3.14\n",
    "    def __init__(self,radius=1):\n",
    "        self.radius = radius\n",
    "        \n",
    "    def Circumference(self):\n",
    "        area = self.pi*self.radius*self.radius\n",
    "        print('The Radius Is {} and The Area Of That Circle Is {}'.format(self.radius,area))\n",
    "        "
   ]
  },
  {
   "cell_type": "code",
   "execution_count": 39,
   "id": "6dbb5f70",
   "metadata": {},
   "outputs": [],
   "source": [
    "cir = circle(radius=4)"
   ]
  },
  {
   "cell_type": "code",
   "execution_count": 40,
   "id": "9ae22e9f",
   "metadata": {},
   "outputs": [
    {
     "name": "stdout",
     "output_type": "stream",
     "text": [
      "The Radius Is 4 and The Area Of That Circle Is 50.24\n"
     ]
    }
   ],
   "source": [
    "cir.Circumference()"
   ]
  },
  {
   "cell_type": "code",
   "execution_count": 1,
   "id": "e2a2adfb",
   "metadata": {},
   "outputs": [],
   "source": [
    "class Animal():\n",
    "    \n",
    "    def __init__(self):\n",
    "        print('bark')\n",
    "    \n",
    "    def name(self):\n",
    "        print('my name is het ')\n",
    "    \n",
    "    def hand(self):\n",
    "        print('I am HandSome')"
   ]
  },
  {
   "cell_type": "code",
   "execution_count": 2,
   "id": "313b7d80",
   "metadata": {},
   "outputs": [
    {
     "name": "stdout",
     "output_type": "stream",
     "text": [
      "bark\n"
     ]
    }
   ],
   "source": [
    "animal = Animal()"
   ]
  },
  {
   "cell_type": "code",
   "execution_count": 4,
   "id": "b107a071",
   "metadata": {},
   "outputs": [
    {
     "name": "stdout",
     "output_type": "stream",
     "text": [
      "I am HandSome\n"
     ]
    }
   ],
   "source": [
    "animal.hand()"
   ]
  },
  {
   "cell_type": "code",
   "execution_count": 5,
   "id": "9905f616",
   "metadata": {},
   "outputs": [],
   "source": [
    "class Dog(Animal):\n",
    "    \n",
    "    def __init__(self):\n",
    "        Animal.__init__(self)\n",
    "        print('Dog Created')"
   ]
  },
  {
   "cell_type": "code",
   "execution_count": 6,
   "id": "bd8aa84e",
   "metadata": {},
   "outputs": [
    {
     "name": "stdout",
     "output_type": "stream",
     "text": [
      "bark\n",
      "Dog Created\n"
     ]
    }
   ],
   "source": [
    "dog = Dog()"
   ]
  },
  {
   "cell_type": "code",
   "execution_count": 8,
   "id": "7dde7bc5",
   "metadata": {},
   "outputs": [
    {
     "name": "stdout",
     "output_type": "stream",
     "text": [
      "I am HandSome\n"
     ]
    }
   ],
   "source": [
    "dog.hand()"
   ]
  },
  {
   "cell_type": "code",
   "execution_count": 11,
   "id": "c17a179b",
   "metadata": {},
   "outputs": [],
   "source": [
    "# Polymorphism "
   ]
  },
  {
   "cell_type": "code",
   "execution_count": 12,
   "id": "cc296cfe",
   "metadata": {},
   "outputs": [],
   "source": [
    "class Dog():\n",
    "    \n",
    "    def __init__(self,name):\n",
    "        self.name = name \n",
    "        \n",
    "    def speak(self):\n",
    "        return self.name + 'woof!'"
   ]
  },
  {
   "cell_type": "code",
   "execution_count": 13,
   "id": "d4bc6ccc",
   "metadata": {},
   "outputs": [],
   "source": [
    "class Cat():\n",
    "    \n",
    "    def __init__(self,name):\n",
    "        self.name = name \n",
    "        \n",
    "    def speak(self):\n",
    "        return self.name + 'Meow!'"
   ]
  },
  {
   "cell_type": "code",
   "execution_count": 24,
   "id": "bfe40fdb",
   "metadata": {},
   "outputs": [],
   "source": [
    "niko = Dog('niko ')\n",
    "spark = Cat('glitter ')"
   ]
  },
  {
   "cell_type": "code",
   "execution_count": 25,
   "id": "25421af2",
   "metadata": {},
   "outputs": [
    {
     "name": "stdout",
     "output_type": "stream",
     "text": [
      "niko woof!\n"
     ]
    }
   ],
   "source": [
    "print(niko.speak())"
   ]
  },
  {
   "cell_type": "code",
   "execution_count": 26,
   "id": "faacc1c3",
   "metadata": {},
   "outputs": [],
   "source": [
    "def area_animal(pet):\n",
    "    print(pet.speak())"
   ]
  },
  {
   "cell_type": "code",
   "execution_count": 27,
   "id": "0d59e378",
   "metadata": {},
   "outputs": [
    {
     "name": "stdout",
     "output_type": "stream",
     "text": [
      "glitter Meow!\n"
     ]
    }
   ],
   "source": [
    "area_animal(spark)"
   ]
  },
  {
   "cell_type": "code",
   "execution_count": 28,
   "id": "69974db0",
   "metadata": {},
   "outputs": [],
   "source": [
    "# Magic Duntter In Python "
   ]
  },
  {
   "cell_type": "code",
   "execution_count": 44,
   "id": "93831d8a",
   "metadata": {},
   "outputs": [],
   "source": [
    "class Author():\n",
    "    \n",
    "    def __init__(self,author,page):\n",
    "        self.author = author \n",
    "        self.page = page \n",
    "        \n",
    "    def __str__(self):\n",
    "          return f\"k Written By {self.author} Has {self.page} Pages \" \n",
    "        \n",
    "    def __len__(self):\n",
    "            print(f'This Book Has {self.page} Pages')\n",
    "            \n",
    "    def __Del(self):\n",
    "        print(\"Your book has Been Successfully Deleted\")"
   ]
  },
  {
   "cell_type": "code",
   "execution_count": 45,
   "id": "db6b2d79",
   "metadata": {},
   "outputs": [],
   "source": [
    "aur = Author('het shah' , 200)"
   ]
  },
  {
   "cell_type": "code",
   "execution_count": 46,
   "id": "8823a76d",
   "metadata": {},
   "outputs": [
    {
     "name": "stdout",
     "output_type": "stream",
     "text": [
      "k Written By het shah Has 200 Pages \n"
     ]
    }
   ],
   "source": [
    "print(aur)"
   ]
  },
  {
   "cell_type": "code",
   "execution_count": 84,
   "id": "a87a5143",
   "metadata": {},
   "outputs": [],
   "source": [
    "class line():\n",
    "    def __init__(self,coor1,coor2):\n",
    "        self.coor1 = coor1\n",
    "        self.coor2 = coor2\n",
    "    \n",
    "    def distance(self):\n",
    "        \n",
    "        print(f'({self.coor1[0]} - {self.coor2[0]})+({self.coor1[1]} - {self.coor2[1]})')\n",
    "        "
   ]
  },
  {
   "cell_type": "code",
   "execution_count": 85,
   "id": "a1ee5141",
   "metadata": {},
   "outputs": [],
   "source": [
    "lin = line((2,2) ,(2,0))"
   ]
  },
  {
   "cell_type": "code",
   "execution_count": 86,
   "id": "1ae14708",
   "metadata": {},
   "outputs": [
    {
     "name": "stdout",
     "output_type": "stream",
     "text": [
      "(2 - 2)+(2 - 0)\n"
     ]
    }
   ],
   "source": [
    "lin.distance()"
   ]
  },
  {
   "cell_type": "code",
   "execution_count": null,
   "id": "14b54491",
   "metadata": {},
   "outputs": [],
   "source": []
  }
 ],
 "metadata": {
  "kernelspec": {
   "display_name": "Python 3 (ipykernel)",
   "language": "python",
   "name": "python3"
  },
  "language_info": {
   "codemirror_mode": {
    "name": "ipython",
    "version": 3
   },
   "file_extension": ".py",
   "mimetype": "text/x-python",
   "name": "python",
   "nbconvert_exporter": "python",
   "pygments_lexer": "ipython3",
   "version": "3.9.13"
  }
 },
 "nbformat": 4,
 "nbformat_minor": 5
}
