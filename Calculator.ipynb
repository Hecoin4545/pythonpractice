{
 "cells": [
  {
   "cell_type": "code",
   "execution_count": 1,
   "id": "41228c93",
   "metadata": {
    "scrolled": false
   },
   "outputs": [
    {
     "name": "stdout",
     "output_type": "stream",
     "text": [
      "Welcome To Het's Calculator\n",
      "How Many Numbers You Want To Calculate: 4\n",
      "Enter Your 1 Number : 1\n",
      "Enter Your 2 Number : \n",
      "Enter Correct Numeric Value\n",
      "Enter Your 2 Number : 2\n",
      "Enter Your 3 Number : 3\n",
      "Enter Your 4 Number : 4\n",
      "Enter Your Operation \n",
      " 's' for 'sum'\n",
      " 'd' for 'difference'\n",
      " 'm' for 'multiplication'\n",
      " 'div' for 'division'\n",
      "s\n",
      "The Sum Of 4 Number Is 10\n"
     ]
    }
   ],
   "source": [
    "# Step One Print Welcome And Table Input Of How Many Number He/She Want To Calculate\n",
    "print(\"Welcome To Het's Calculator\")\n",
    "number_calulate = int(input('How Many Numbers You Want To Calculate: '))\n",
    "\n",
    "# How Many Total Number You Want To Calculate\n",
    "i=0\n",
    "emp_list = []\n",
    "while i < number_calulate:\n",
    "    het =  str(input('Enter Your {} Number : ' .format(i+1)))\n",
    "    if het == '':\n",
    "        print('Enter Correct Numeric Value')\n",
    "    else:\n",
    "        emp_list.append(int(het))\n",
    "        i += 1\n",
    "    \n",
    "    \n",
    "#Which Operation Your want To Perform \"Sum\",\"Difference\",\"Multiplication\" Or \"Division\"\n",
    "operation = input(\"Enter Your Operation \\n 's' for 'sum'\\n 'd' for 'difference'\\n 'm' for 'multiplication'\\n 'div' for 'division'\\n\")\n",
    "\n",
    "#Function Which Is Used To Add Numbers\n",
    "def Addition():\n",
    "      return sum(emp_list)\n",
    "\n",
    "# Function Which Is Use To Subtract Numbers\n",
    "def Difference():\n",
    "    te = sum(emp_list[1::])\n",
    "    fi = emp_list[0] - te\n",
    "    return fi\n",
    "\n",
    "# Function Which Is Used To Multiply Numbers \n",
    "def Multiply():\n",
    "    i = 1\n",
    "    for items in emp_list:\n",
    "        ne = items*i\n",
    "        i = ne\n",
    "        return i    \n",
    "\n",
    "#Function Which Is Used To Divide Numbers\n",
    "def Divide():\n",
    "    i = emp_list[0]\n",
    "    g = emp_list.pop(0)\n",
    "    for items in te :\n",
    "        fi = i / items\n",
    "        i = fi\n",
    "        return i\n",
    "    \n",
    " # Basic if else conditions that checks what operation user want to do \n",
    "if(operation == 's'):\n",
    "   print(f\"The Sum Of {number_calulate} Number Is {Addition()}\")\n",
    "elif(operation == 'd'):\n",
    "    print(f\"The Diffreence Of {number_calulate} Numbers Is {Difference()}\")\n",
    "elif(operation == 'm'):\n",
    "    print(f\"The Multiplication Of {number_calulate} Numbers Is {Multiply()}\")\n",
    "elif(operation == 'div'):\n",
    "    print(f\"The Division Of {number_calulate} Numbers Is {Divide()}\")\n",
    "else:\n",
    "    print(\"Please Type Correct Alphabet :( \")\n",
    "    operation = input(\"Enter Your Operation \\n 's' for 'sum'\\n 'd' for 'difference'\\n 'm' for 'multiplication'\\n 'div' for 'division'\\n\")"
   ]
  }
 ],
 "metadata": {
  "kernelspec": {
   "display_name": "Python 3 (ipykernel)",
   "language": "python",
   "name": "python3"
  },
  "language_info": {
   "codemirror_mode": {
    "name": "ipython",
    "version": 3
   },
   "file_extension": ".py",
   "mimetype": "text/x-python",
   "name": "python",
   "nbconvert_exporter": "python",
   "pygments_lexer": "ipython3",
   "version": "3.9.13"
  }
 },
 "nbformat": 4,
 "nbformat_minor": 5
}
