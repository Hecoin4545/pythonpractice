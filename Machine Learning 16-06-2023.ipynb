{
 "cells": [
  {
   "cell_type": "code",
   "execution_count": 2,
   "id": "dd555f7b",
   "metadata": {},
   "outputs": [
    {
     "data": {
      "text/plain": [
       "['h', 'e', 'l', 'l', 'o']"
      ]
     },
     "execution_count": 2,
     "metadata": {},
     "output_type": "execute_result"
    }
   ],
   "source": [
    "a = 'hello'\n",
    "list(a)"
   ]
  },
  {
   "cell_type": "code",
   "execution_count": 3,
   "id": "e08c7efd",
   "metadata": {},
   "outputs": [
    {
     "data": {
      "text/plain": [
       "'hello'"
      ]
     },
     "execution_count": 3,
     "metadata": {},
     "output_type": "execute_result"
    }
   ],
   "source": [
    "a"
   ]
  },
  {
   "cell_type": "code",
   "execution_count": 36,
   "id": "36e77b0c",
   "metadata": {},
   "outputs": [
    {
     "data": {
      "text/plain": [
       "'Hello My Name Is Het I Am 16 Years Old'"
      ]
     },
     "execution_count": 36,
     "metadata": {},
     "output_type": "execute_result"
    }
   ],
   "source": [
    "a =  'hello my name is het i am 16 years old'\n",
    "b = a.split(' ')\n",
    "d = []\n",
    "for i in b:\n",
    "    c= i[0].capitalize() + i[1::]\n",
    "    d.append(c)\n",
    "\n",
    "' '.join(d)"
   ]
  },
  {
   "cell_type": "code",
   "execution_count": 39,
   "id": "e27b5ece",
   "metadata": {},
   "outputs": [
    {
     "data": {
      "text/plain": [
       "'hets8949'"
      ]
     },
     "execution_count": 39,
     "metadata": {},
     "output_type": "execute_result"
    }
   ],
   "source": [
    "a = 'hets8949@gmail.com'\n",
    "b = a.split('@')\n",
    "b[0]"
   ]
  },
  {
   "cell_type": "code",
   "execution_count": 47,
   "id": "8f917b3a",
   "metadata": {},
   "outputs": [
    {
     "data": {
      "text/plain": [
       "[1, 2, 3, 4]"
      ]
     },
     "execution_count": 47,
     "metadata": {},
     "output_type": "execute_result"
    }
   ],
   "source": [
    "a = [3,1,1,2,2,3,4,4]\n",
    "a.sort()\n",
    "b = set(a)\n",
    "c = list(b)\n",
    "c"
   ]
  },
  {
   "cell_type": "code",
   "execution_count": 1,
   "id": "1397eabe",
   "metadata": {},
   "outputs": [
    {
     "data": {
      "text/plain": [
       "20"
      ]
     },
     "execution_count": 1,
     "metadata": {},
     "output_type": "execute_result"
    }
   ],
   "source": [
    "def multi(a,b):\n",
    "    if b == 1:\n",
    "        return a\n",
    "    else:\n",
    "        return a + multi(a,b-1)\n",
    "    \n",
    "multi(4,5)"
   ]
  },
  {
   "cell_type": "code",
   "execution_count": 3,
   "id": "972bf980",
   "metadata": {},
   "outputs": [
    {
     "data": {
      "text/plain": [
       "720"
      ]
     },
     "execution_count": 3,
     "metadata": {},
     "output_type": "execute_result"
    }
   ],
   "source": [
    "# # 5*4*3*2*1\n",
    "# def factori(a):\n",
    "#     if a == 1:\n",
    "#         return a\n",
    "#     else:\n",
    "#         return a* factori(a-1)\n",
    "    \n",
    "# factori(6)"
   ]
  },
  {
   "cell_type": "code",
   "execution_count": 41,
   "id": "e4a2382e",
   "metadata": {},
   "outputs": [],
   "source": [
    "# string abcba\n",
    "def pali(a):\n",
    "    if(len(a) == 1):\n",
    "        print('true')\n",
    "    else:\n",
    "        if(a[0] == a[-1]):\n",
    "            pali(a[1:-1]) \n",
    "        else:\n",
    "            return 'not'\n",
    "    \n",
    "    \n",
    "    "
   ]
  },
  {
   "cell_type": "code",
   "execution_count": 48,
   "id": "596f798c",
   "metadata": {},
   "outputs": [
    {
     "name": "stdout",
     "output_type": "stream",
     "text": [
      "true\n"
     ]
    }
   ],
   "source": [
    "pali('madam')\n"
   ]
  },
  {
   "cell_type": "code",
   "execution_count": 24,
   "id": "e534176e",
   "metadata": {},
   "outputs": [
    {
     "ename": "AttributeError",
     "evalue": "'str' object has no attribute 'length'",
     "output_type": "error",
     "traceback": [
      "\u001b[1;31m---------------------------------------------------------------------------\u001b[0m",
      "\u001b[1;31mAttributeError\u001b[0m                            Traceback (most recent call last)",
      "\u001b[1;32m~\\AppData\\Local\\Temp\\ipykernel_6740\\1194676538.py\u001b[0m in \u001b[0;36m<module>\u001b[1;34m\u001b[0m\n\u001b[0;32m      1\u001b[0m \u001b[0ma\u001b[0m \u001b[1;33m=\u001b[0m \u001b[1;34m'madam'\u001b[0m\u001b[1;33m\u001b[0m\u001b[1;33m\u001b[0m\u001b[0m\n\u001b[1;32m----> 2\u001b[1;33m \u001b[0mb\u001b[0m \u001b[1;33m=\u001b[0m \u001b[0ma\u001b[0m\u001b[1;33m.\u001b[0m\u001b[0mlength\u001b[0m\u001b[1;33m\u001b[0m\u001b[1;33m\u001b[0m\u001b[0m\n\u001b[0m",
      "\u001b[1;31mAttributeError\u001b[0m: 'str' object has no attribute 'length'"
     ]
    }
   ],
   "source": [
    "a = 'madam'\n",
    "b = a.length"
   ]
  },
  {
   "cell_type": "code",
   "execution_count": 3,
   "id": "947f5de6",
   "metadata": {},
   "outputs": [
    {
     "data": {
      "text/plain": [
       "233"
      ]
     },
     "execution_count": 3,
     "metadata": {},
     "output_type": "execute_result"
    }
   ],
   "source": [
    "def fibo(a):\n",
    "    if(a == 0 or a == 1 ):\n",
    "        return 1\n",
    "    else:\n",
    "        return fibo(a-2) + fibo(a-1) \n",
    "\n",
    "fibo(12)"
   ]
  },
  {
   "cell_type": "code",
   "execution_count": 17,
   "id": "c578edaa",
   "metadata": {},
   "outputs": [
    {
     "ename": "SyntaxError",
     "evalue": "invalid syntax (1178147436.py, line 16)",
     "output_type": "error",
     "traceback": [
      "\u001b[1;36m  File \u001b[1;32m\"C:\\Users\\Asus\\AppData\\Local\\Temp\\ipykernel_14168\\1178147436.py\"\u001b[1;36m, line \u001b[1;32m16\u001b[0m\n\u001b[1;33m    list(map(lambda (x,y) :x['age'], y['name'] , students))\u001b[0m\n\u001b[1;37m                    ^\u001b[0m\n\u001b[1;31mSyntaxError\u001b[0m\u001b[1;31m:\u001b[0m invalid syntax\n"
     ]
    }
   ],
   "source": [
    "students= [\n",
    "    {\n",
    "        'name':\"het shah\",\n",
    "        'age':17\n",
    "    },\n",
    "    {\n",
    "        'name':\"kalp jethani\",\n",
    "        'age':15\n",
    "    },\n",
    "    {\n",
    "        'name':\"Aryan patel\",\n",
    "        'age':18\n",
    "    },\n",
    "]\n",
    "\n",
    "list(map(lambda x:x['age'] , students))"
   ]
  },
  {
   "cell_type": "code",
   "execution_count": 21,
   "id": "95f5850b",
   "metadata": {},
   "outputs": [],
   "source": [
    "class BookStore:\n",
    "    def __init__(self):\n",
    "        self.balance = 0\n",
    "        self.books = []\n",
    "        self.collection()\n",
    "    def collection(self):\n",
    "        self.outlook = int(input('''\n",
    "        hello welcome to my bookstore:\n",
    "        Press 1 to create pin\n",
    "        Press 2 to look for books \n",
    "        Press 3 to add balance\n",
    "        Press 4 to purchase books\n",
    "        Press 5 to add books\n",
    "        Press 6 to Check Balance\n",
    "        '''))\n",
    "        if self.outlook == 1:\n",
    "            self.createpin()\n",
    "        elif self.outlook == 2:\n",
    "            self.bookslook()\n",
    "        elif self.outlook == 3:\n",
    "            self.addbalance()\n",
    "        elif self.outlook == 4:\n",
    "            print('look for books')\n",
    "        elif self.outlook == 5:\n",
    "            print('look for books')\n",
    "        elif self.outlook == 5:\n",
    "            print('look for books')\n",
    "        else:\n",
    "            print('Provide Valid Details')\n",
    "            self.outlook\n",
    "            \n",
    "    def createpin(self):\n",
    "        self.pin = input('Provide 5 digit pin')\n",
    "        print('Pin Created Successfully')\n",
    "        print('Your balance is 0 Press 3 to Add balance')\n",
    "        print('You have 0 books look for books by pressing 2 ')\n",
    "        self.addbalance()\n",
    "#         Todo: chech wheather the pin of of 5 char or not and also chech wheater it is a string or interger \n",
    "    def bookslook(self):\n",
    "        print('''\n",
    "        5000 : machine learning press 'a' for this book\n",
    "        6000 : python press 'b' for this book\n",
    "        7000 : web development press 'c' for this book\n",
    "        10000: App Development press 'd' for this book\n",
    "        ''')\n",
    "        if(self.balance < 5000):\n",
    "            print('Please Deposite some balance (min 5000) so that you can purchase this book')\n",
    "    def addbalance(self):\n",
    "        checking = input('Enter The Pin')\n",
    "        if checking != self.pin():\n",
    "            print('Invalid Pin')\n",
    "        else:\n",
    "            balance = int(input('Enter The Amount'))\n",
    "            self.balance = balance + self.balance\n",
    "            print(self.balance)"
   ]
  },
  {
   "cell_type": "code",
   "execution_count": null,
   "id": "f696a1ec",
   "metadata": {},
   "outputs": [
    {
     "name": "stdout",
     "output_type": "stream",
     "text": [
      "\n",
      "        hello welcome to my bookstore:\n",
      "        Press 1 to create pin\n",
      "        Press 2 to look for books \n",
      "        Press 3 to add balance\n",
      "        Press 4 to purchase books\n",
      "        Press 5 to add books\n",
      "        Press 6 to Check Balance\n",
      "        1\n",
      "Provide 5 digit pin12345\n",
      "Pin Created Successfully\n",
      "Your balance is 0 Press 3 to Add balance\n",
      "You have 0 books look for books by pressing 2 \n"
     ]
    }
   ],
   "source": [
    "b = BookStore()"
   ]
  },
  {
   "cell_type": "code",
   "execution_count": null,
   "id": "e70e5e9f",
   "metadata": {},
   "outputs": [],
   "source": []
  },
  {
   "cell_type": "code",
   "execution_count": null,
   "id": "82837e69",
   "metadata": {},
   "outputs": [],
   "source": []
  }
 ],
 "metadata": {
  "kernelspec": {
   "display_name": "Python 3 (ipykernel)",
   "language": "python",
   "name": "python3"
  },
  "language_info": {
   "codemirror_mode": {
    "name": "ipython",
    "version": 3
   },
   "file_extension": ".py",
   "mimetype": "text/x-python",
   "name": "python",
   "nbconvert_exporter": "python",
   "pygments_lexer": "ipython3",
   "version": "3.9.13"
  }
 },
 "nbformat": 4,
 "nbformat_minor": 5
}
