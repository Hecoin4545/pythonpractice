{
 "cells": [
  {
   "cell_type": "code",
   "execution_count": 1,
   "id": "5a08caf2",
   "metadata": {},
   "outputs": [],
   "source": [
    "#lerning about functions "
   ]
  },
  {
   "cell_type": "code",
   "execution_count": 4,
   "id": "02994c6a",
   "metadata": {},
   "outputs": [],
   "source": [
    "def say_hello():\n",
    "    print('hello')\n",
    "    print('how are you')\n",
    "    print('if you ask me then i am fine')"
   ]
  },
  {
   "cell_type": "code",
   "execution_count": 5,
   "id": "7d1e7e91",
   "metadata": {},
   "outputs": [
    {
     "name": "stdout",
     "output_type": "stream",
     "text": [
      "hello\n",
      "how are you\n",
      "if you ask me then i am fine\n"
     ]
    }
   ],
   "source": [
    "say_hello()"
   ]
  },
  {
   "cell_type": "code",
   "execution_count": 8,
   "id": "441882c5",
   "metadata": {},
   "outputs": [],
   "source": [
    "def say_hello(name='shah het'):\n",
    "    print(f'hello {name}')"
   ]
  },
  {
   "cell_type": "code",
   "execution_count": 10,
   "id": "c1a6d181",
   "metadata": {},
   "outputs": [
    {
     "name": "stdout",
     "output_type": "stream",
     "text": [
      "hello shah het\n"
     ]
    }
   ],
   "source": [
    "say_hello()"
   ]
  },
  {
   "cell_type": "code",
   "execution_count": 11,
   "id": "dc0a0df4",
   "metadata": {},
   "outputs": [],
   "source": [
    "def add_num(a,b):\n",
    "    return a+b"
   ]
  },
  {
   "cell_type": "code",
   "execution_count": 14,
   "id": "75c7df77",
   "metadata": {},
   "outputs": [],
   "source": [
    "result = add_num(1,2)"
   ]
  },
  {
   "cell_type": "raw",
   "id": "c8bbc5cd",
   "metadata": {},
   "source": [
    "result"
   ]
  },
  {
   "cell_type": "code",
   "execution_count": 15,
   "id": "11e9df30",
   "metadata": {},
   "outputs": [
    {
     "data": {
      "text/plain": [
       "3"
      ]
     },
     "execution_count": 15,
     "metadata": {},
     "output_type": "execute_result"
    }
   ],
   "source": [
    "result"
   ]
  },
  {
   "cell_type": "code",
   "execution_count": 16,
   "id": "96fc9716",
   "metadata": {},
   "outputs": [],
   "source": [
    "# so the basic difference between print and return are return function will save in the variable"
   ]
  },
  {
   "cell_type": "code",
   "execution_count": 21,
   "id": "21efd620",
   "metadata": {},
   "outputs": [],
   "source": [
    "def even_num(a):\n",
    "    if a%2 == 0:\n",
    "        print(f'the {a} is even')\n",
    "    else:\n",
    "        print(f'The {a} is odd')\n",
    "    return a\n"
   ]
  },
  {
   "cell_type": "code",
   "execution_count": 23,
   "id": "fa73f294",
   "metadata": {},
   "outputs": [
    {
     "name": "stdout",
     "output_type": "stream",
     "text": [
      "the 10 is even\n"
     ]
    }
   ],
   "source": [
    "het = even_num(10)"
   ]
  },
  {
   "cell_type": "code",
   "execution_count": 25,
   "id": "a43f1537",
   "metadata": {},
   "outputs": [
    {
     "data": {
      "text/plain": [
       "10"
      ]
     },
     "execution_count": 25,
     "metadata": {},
     "output_type": "execute_result"
    }
   ],
   "source": [
    "het"
   ]
  },
  {
   "cell_type": "code",
   "execution_count": 54,
   "id": "fe10eb5d",
   "metadata": {},
   "outputs": [],
   "source": [
    "def even_num_list(listnumber):\n",
    "    for items,values in enumerate(listnumber):\n",
    "       if values %2 ==0:\n",
    "        print(values)\n",
    "       "
   ]
  },
  {
   "cell_type": "code",
   "execution_count": 56,
   "id": "7fae05b3",
   "metadata": {},
   "outputs": [
    {
     "name": "stdout",
     "output_type": "stream",
     "text": [
      "2\n"
     ]
    }
   ],
   "source": [
    "even_num_list([1,3,7 , 2])"
   ]
  },
  {
   "cell_type": "code",
   "execution_count": 48,
   "id": "cf480853",
   "metadata": {},
   "outputs": [],
   "source": [
    "# function and tuple unpacking"
   ]
  },
  {
   "cell_type": "code",
   "execution_count": 49,
   "id": "227ac581",
   "metadata": {},
   "outputs": [],
   "source": [
    "stock_prices = [('APPL',200),('GOOG',400),(\"micro\",100)]"
   ]
  },
  {
   "cell_type": "code",
   "execution_count": 50,
   "id": "23a190ca",
   "metadata": {},
   "outputs": [
    {
     "name": "stdout",
     "output_type": "stream",
     "text": [
      "('APPL', 200)\n",
      "('GOOG', 400)\n",
      "('micro', 100)\n"
     ]
    }
   ],
   "source": [
    "for items in stock_prices:\n",
    "    print(items)"
   ]
  },
  {
   "cell_type": "code",
   "execution_count": 57,
   "id": "c1e12cc0",
   "metadata": {},
   "outputs": [
    {
     "name": "stdout",
     "output_type": "stream",
     "text": [
      "220.0\n",
      "440.0\n",
      "110.0\n"
     ]
    }
   ],
   "source": [
    "for ticker,price in stock_prices:\n",
    "    print(price+(0.1*price))"
   ]
  },
  {
   "cell_type": "code",
   "execution_count": 58,
   "id": "9b03a4ed",
   "metadata": {},
   "outputs": [],
   "source": [
    "# work_hours = [('het',100),('preet',200),('kalp',300)]"
   ]
  },
  {
   "cell_type": "code",
   "execution_count": 59,
   "id": "e795320b",
   "metadata": {},
   "outputs": [],
   "source": [
    "# def employ_check(work_hours):\n",
    "#     current_max = 0\n",
    "#     e_o_m = ''\n",
    "    \n",
    "#     return(e_o_m , current_max)"
   ]
  },
  {
   "cell_type": "code",
   "execution_count": 104,
   "id": "61a3cb53",
   "metadata": {},
   "outputs": [],
   "source": [
    "work_hours = [('aryan',900),('het',100),('preet',200),('kalp',300)]"
   ]
  },
  {
   "cell_type": "code",
   "execution_count": null,
   "id": "0b765faf",
   "metadata": {},
   "outputs": [],
   "source": [
    "\n",
    "  "
   ]
  },
  {
   "cell_type": "code",
   "execution_count": 117,
   "id": "14437525",
   "metadata": {},
   "outputs": [
    {
     "ename": "TypeError",
     "evalue": "'>' not supported between instances of 'int' and 'str'",
     "output_type": "error",
     "traceback": [
      "\u001b[1;31m---------------------------------------------------------------------------\u001b[0m",
      "\u001b[1;31mTypeError\u001b[0m                                 Traceback (most recent call last)",
      "\u001b[1;32m~\\AppData\\Local\\Temp\\ipykernel_12228\\2691545536.py\u001b[0m in \u001b[0;36m<module>\u001b[1;34m\u001b[0m\n\u001b[0;32m      4\u001b[0m     \u001b[0mmyList\u001b[0m\u001b[1;33m.\u001b[0m\u001b[0mappend\u001b[0m\u001b[1;33m(\u001b[0m\u001b[0msalary\u001b[0m\u001b[1;33m)\u001b[0m\u001b[1;33m\u001b[0m\u001b[1;33m\u001b[0m\u001b[0m\n\u001b[0;32m      5\u001b[0m \u001b[1;33m\u001b[0m\u001b[0m\n\u001b[1;32m----> 6\u001b[1;33m \u001b[0mprint\u001b[0m\u001b[1;33m(\u001b[0m\u001b[0mmax\u001b[0m\u001b[1;33m(\u001b[0m\u001b[0mmyList\u001b[0m\u001b[1;33m)\u001b[0m\u001b[1;33m)\u001b[0m\u001b[1;33m\u001b[0m\u001b[1;33m\u001b[0m\u001b[0m\n\u001b[0m",
      "\u001b[1;31mTypeError\u001b[0m: '>' not supported between instances of 'int' and 'str'"
     ]
    }
   ],
   "source": [
    "myList = []  \n",
    "\n",
    "for names , salary in work_hours:\n",
    "    myList.append(salary)\n",
    "\n",
    "print(max(myList))"
   ]
  },
  {
   "cell_type": "code",
   "execution_count": 86,
   "id": "2d05e2e7",
   "metadata": {},
   "outputs": [],
   "source": [
    "e_o(work_hours)"
   ]
  },
  {
   "cell_type": "code",
   "execution_count": 99,
   "id": "e6fbd784",
   "metadata": {},
   "outputs": [
    {
     "data": {
      "text/plain": [
       "9"
      ]
     },
     "execution_count": 99,
     "metadata": {},
     "output_type": "execute_result"
    }
   ],
   "source": []
  },
  {
   "cell_type": "code",
   "execution_count": null,
   "id": "01bd6cae",
   "metadata": {},
   "outputs": [],
   "source": []
  }
 ],
 "metadata": {
  "kernelspec": {
   "display_name": "Python 3 (ipykernel)",
   "language": "python",
   "name": "python3"
  },
  "language_info": {
   "codemirror_mode": {
    "name": "ipython",
    "version": 3
   },
   "file_extension": ".py",
   "mimetype": "text/x-python",
   "name": "python",
   "nbconvert_exporter": "python",
   "pygments_lexer": "ipython3",
   "version": "3.9.13"
  }
 },
 "nbformat": 4,
 "nbformat_minor": 5
}
