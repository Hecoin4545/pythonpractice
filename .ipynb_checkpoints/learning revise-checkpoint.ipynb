{
 "cells": [
  {
   "cell_type": "code",
   "execution_count": 54,
   "id": "4b9f632d",
   "metadata": {},
   "outputs": [],
   "source": [
    "#Intro about Strings\n",
    "a = 'het Het'"
   ]
  },
  {
   "cell_type": "code",
   "execution_count": 55,
   "id": "1780af68",
   "metadata": {},
   "outputs": [
    {
     "name": "stdout",
     "output_type": "stream",
     "text": [
      "het Het\n"
     ]
    }
   ],
   "source": [
    "print(a)"
   ]
  },
  {
   "cell_type": "code",
   "execution_count": 56,
   "id": "4a4c6418",
   "metadata": {},
   "outputs": [
    {
     "name": "stdout",
     "output_type": "stream",
     "text": [
      "h\n"
     ]
    }
   ],
   "source": [
    "print(a[0])"
   ]
  },
  {
   "cell_type": "code",
   "execution_count": 57,
   "id": "cd4a0be5",
   "metadata": {},
   "outputs": [
    {
     "name": "stdout",
     "output_type": "stream",
     "text": [
      "true\n"
     ]
    }
   ],
   "source": [
    "b = a.find('het')\n",
    "if b == -1:\n",
    "    print('false')\n",
    "else:\n",
    "    print('true')"
   ]
  },
  {
   "cell_type": "code",
   "execution_count": 58,
   "id": "828b7046",
   "metadata": {},
   "outputs": [],
   "source": [
    "a = a.replace('het' , 'Het')"
   ]
  },
  {
   "cell_type": "code",
   "execution_count": 59,
   "id": "d3ba2233",
   "metadata": {},
   "outputs": [
    {
     "data": {
      "text/plain": [
       "'Het Het'"
      ]
     },
     "execution_count": 59,
     "metadata": {},
     "output_type": "execute_result"
    }
   ],
   "source": [
    "a"
   ]
  },
  {
   "cell_type": "code",
   "execution_count": 60,
   "id": "7fb2e33d",
   "metadata": {},
   "outputs": [
    {
     "data": {
      "text/plain": [
       "['Het', 'Het']"
      ]
     },
     "execution_count": 60,
     "metadata": {},
     "output_type": "execute_result"
    }
   ],
   "source": [
    "a.split(\" \")"
   ]
  },
  {
   "cell_type": "code",
   "execution_count": 61,
   "id": "bb6da5e7",
   "metadata": {},
   "outputs": [
    {
     "data": {
      "text/plain": [
       "'hET hET'"
      ]
     },
     "execution_count": 61,
     "metadata": {},
     "output_type": "execute_result"
    }
   ],
   "source": [
    "a.swapcase()"
   ]
  },
  {
   "cell_type": "code",
   "execution_count": 63,
   "id": "a4219402",
   "metadata": {},
   "outputs": [
    {
     "data": {
      "text/plain": [
       "str"
      ]
     },
     "execution_count": 63,
     "metadata": {},
     "output_type": "execute_result"
    }
   ],
   "source": [
    "type(a)"
   ]
  },
  {
   "cell_type": "code",
   "execution_count": 64,
   "id": "7c4be37d",
   "metadata": {},
   "outputs": [],
   "source": [
    "#Introduction to list "
   ]
  },
  {
   "cell_type": "code",
   "execution_count": 78,
   "id": "791b2d3e",
   "metadata": {},
   "outputs": [
    {
     "data": {
      "text/plain": [
       "list"
      ]
     },
     "execution_count": 78,
     "metadata": {},
     "output_type": "execute_result"
    }
   ],
   "source": [
    "a = [1,2,3,4,6,7,8]\n",
    "type(a)"
   ]
  },
  {
   "cell_type": "code",
   "execution_count": 95,
   "id": "f315e4e7",
   "metadata": {},
   "outputs": [],
   "source": [
    "#introduction to dictionary"
   ]
  },
  {
   "cell_type": "code",
   "execution_count": 105,
   "id": "06327f1b",
   "metadata": {},
   "outputs": [],
   "source": [
    "a = {\"id\":'0' , \"name\":\"het shah\"}"
   ]
  },
  {
   "cell_type": "code",
   "execution_count": 114,
   "id": "384873b1",
   "metadata": {},
   "outputs": [
    {
     "name": "stdout",
     "output_type": "stream",
     "text": [
      "dict_values(['0', 'het shah'])\n"
     ]
    }
   ],
   "source": [
    "print(a.values())"
   ]
  },
  {
   "cell_type": "code",
   "execution_count": 115,
   "id": "516d271c",
   "metadata": {},
   "outputs": [],
   "source": [
    "#introducation to for loops"
   ]
  },
  {
   "cell_type": "code",
   "execution_count": 124,
   "id": "47a94dce",
   "metadata": {},
   "outputs": [
    {
     "name": "stdout",
     "output_type": "stream",
     "text": [
      "r\n",
      "p\n",
      "a\n",
      "s\n",
      "k\n",
      "m\n",
      "k\n",
      "rishi\n"
     ]
    }
   ],
   "source": [
    "a = ['rishi','preet','aryan','shlok','kalp','mann','ketul']\n",
    "i= 0\n",
    "for readFriends in a:\n",
    "    print(readFriends)    "
   ]
  },
  {
   "cell_type": "code",
   "execution_count": null,
   "id": "d552cbba",
   "metadata": {},
   "outputs": [],
   "source": []
  }
 ],
 "metadata": {
  "kernelspec": {
   "display_name": "Python 3 (ipykernel)",
   "language": "python",
   "name": "python3"
  },
  "language_info": {
   "codemirror_mode": {
    "name": "ipython",
    "version": 3
   },
   "file_extension": ".py",
   "mimetype": "text/x-python",
   "name": "python",
   "nbconvert_exporter": "python",
   "pygments_lexer": "ipython3",
   "version": "3.9.13"
  }
 },
 "nbformat": 4,
 "nbformat_minor": 5
}
