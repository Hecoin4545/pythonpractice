{
 "cells": [
  {
   "cell_type": "code",
   "execution_count": null,
   "id": "0eba1e9d",
   "metadata": {},
   "outputs": [],
   "source": []
  },
  {
   "cell_type": "code",
   "execution_count": null,
   "id": "b33d7cc4",
   "metadata": {},
   "outputs": [],
   "source": [
    "2-10"
   ]
  },
  {
   "cell_type": "code",
   "execution_count": null,
   "id": "d590d8a4",
   "metadata": {},
   "outputs": [],
   "source": [
    "3/1"
   ]
  },
  {
   "cell_type": "code",
   "execution_count": null,
   "id": "be207dc5",
   "metadata": {},
   "outputs": [],
   "source": [
    "7%4"
   ]
  },
  {
   "cell_type": "code",
   "execution_count": null,
   "id": "c60cce90",
   "metadata": {},
   "outputs": [],
   "source": [
    "23 % 2 == 0 "
   ]
  },
  {
   "cell_type": "code",
   "execution_count": null,
   "id": "318b7217",
   "metadata": {},
   "outputs": [],
   "source": [
    "5**10\n"
   ]
  },
  {
   "cell_type": "code",
   "execution_count": null,
   "id": "ecfadeb7",
   "metadata": {},
   "outputs": [],
   "source": [
    "a\n",
    "\n"
   ]
  },
  {
   "cell_type": "code",
   "execution_count": null,
   "id": "a48856e8",
   "metadata": {},
   "outputs": [],
   "source": [
    "a = \"het\""
   ]
  },
  {
   "cell_type": "code",
   "execution_count": null,
   "id": "f0d441ab",
   "metadata": {},
   "outputs": [],
   "source": [
    "a\n"
   ]
  },
  {
   "cell_type": "code",
   "execution_count": null,
   "id": "b1d2193b",
   "metadata": {},
   "outputs": [],
   "source": [
    "a + a"
   ]
  },
  {
   "cell_type": "code",
   "execution_count": null,
   "id": "e7a352e1",
   "metadata": {},
   "outputs": [],
   "source": [
    "a = 5"
   ]
  },
  {
   "cell_type": "code",
   "execution_count": null,
   "id": "7a290c8d",
   "metadata": {},
   "outputs": [],
   "source": [
    "b = \"het\""
   ]
  },
  {
   "cell_type": "code",
   "execution_count": null,
   "id": "7aab95f3",
   "metadata": {},
   "outputs": [],
   "source": [
    "a+b"
   ]
  },
  {
   "cell_type": "code",
   "execution_count": null,
   "id": "83b12f51",
   "metadata": {},
   "outputs": [],
   "source": [
    "a = \"5\""
   ]
  },
  {
   "cell_type": "code",
   "execution_count": null,
   "id": "7843d711",
   "metadata": {},
   "outputs": [],
   "source": [
    "a+b"
   ]
  },
  {
   "cell_type": "code",
   "execution_count": null,
   "id": "ae8eac58",
   "metadata": {},
   "outputs": [],
   "source": [
    "type(a)"
   ]
  },
  {
   "cell_type": "code",
   "execution_count": null,
   "id": "ff1636ab",
   "metadata": {},
   "outputs": [],
   "source": [
    "type(b)"
   ]
  },
  {
   "cell_type": "code",
   "execution_count": 1,
   "id": "514f89f1",
   "metadata": {},
   "outputs": [
    {
     "data": {
      "text/plain": [
       "'hello'"
      ]
     },
     "execution_count": 1,
     "metadata": {},
     "output_type": "execute_result"
    }
   ],
   "source": [
    "\"hello\""
   ]
  },
  {
   "cell_type": "code",
   "execution_count": 4,
   "id": "c0687e38",
   "metadata": {},
   "outputs": [
    {
     "ename": "SyntaxError",
     "evalue": "EOL while scanning string literal (3552598956.py, line 1)",
     "output_type": "error",
     "traceback": [
      "\u001b[1;36m  File \u001b[1;32m\"C:\\Users\\Asus\\AppData\\Local\\Temp\\ipykernel_9676\\3552598956.py\"\u001b[1;36m, line \u001b[1;32m1\u001b[0m\n\u001b[1;33m    \"hello my name is het's shah's\u001b[0m\n\u001b[1;37m                                   ^\u001b[0m\n\u001b[1;31mSyntaxError\u001b[0m\u001b[1;31m:\u001b[0m EOL while scanning string literal\n"
     ]
    }
   ],
   "source": [
    "\"hello my name is het's shah's \n",
    "\""
   ]
  },
  {
   "cell_type": "code",
   "execution_count": 5,
   "id": "eab5dfc3",
   "metadata": {},
   "outputs": [
    {
     "data": {
      "text/plain": [
       "\"hello my name is het's shah's \""
      ]
     },
     "execution_count": 5,
     "metadata": {},
     "output_type": "execute_result"
    }
   ],
   "source": [
    "\"hello my name is het's shah's \""
   ]
  },
  {
   "cell_type": "code",
   "execution_count": 8,
   "id": "950ec299",
   "metadata": {},
   "outputs": [
    {
     "ename": "SyntaxError",
     "evalue": "EOL while scanning string literal (2206609913.py, line 1)",
     "output_type": "error",
     "traceback": [
      "\u001b[1;36m  File \u001b[1;32m\"C:\\Users\\Asus\\AppData\\Local\\Temp\\ipykernel_9676\\2206609913.py\"\u001b[1;36m, line \u001b[1;32m1\u001b[0m\n\u001b[1;33m    len('hello my name is het\u001b[0m\n\u001b[1;37m                             ^\u001b[0m\n\u001b[1;31mSyntaxError\u001b[0m\u001b[1;31m:\u001b[0m EOL while scanning string literal\n"
     ]
    }
   ],
   "source": [
    "len('hello my name is het\n",
    "    ')"
   ]
  },
  {
   "cell_type": "code",
   "execution_count": 9,
   "id": "69f0d3b4",
   "metadata": {},
   "outputs": [
    {
     "data": {
      "text/plain": [
       "14"
      ]
     },
     "execution_count": 9,
     "metadata": {},
     "output_type": "execute_result"
    }
   ],
   "source": [
    "len('hello everyone')"
   ]
  },
  {
   "cell_type": "code",
   "execution_count": 11,
   "id": "b3ddc284",
   "metadata": {},
   "outputs": [],
   "source": [
    "mystring = 'hello world'"
   ]
  },
  {
   "cell_type": "code",
   "execution_count": 12,
   "id": "865d9ef7",
   "metadata": {},
   "outputs": [
    {
     "data": {
      "text/plain": [
       "'hello world'"
      ]
     },
     "execution_count": 12,
     "metadata": {},
     "output_type": "execute_result"
    }
   ],
   "source": [
    "mystring\n"
   ]
  },
  {
   "cell_type": "code",
   "execution_count": 13,
   "id": "097d9ca6",
   "metadata": {},
   "outputs": [
    {
     "data": {
      "text/plain": [
       "'d'"
      ]
     },
     "execution_count": 13,
     "metadata": {},
     "output_type": "execute_result"
    }
   ],
   "source": [
    "mystring[10]"
   ]
  },
  {
   "cell_type": "code",
   "execution_count": 14,
   "id": "5927ae39",
   "metadata": {},
   "outputs": [
    {
     "ename": "IndexError",
     "evalue": "string index out of range",
     "output_type": "error",
     "traceback": [
      "\u001b[1;31m---------------------------------------------------------------------------\u001b[0m",
      "\u001b[1;31mIndexError\u001b[0m                                Traceback (most recent call last)",
      "\u001b[1;32m~\\AppData\\Local\\Temp\\ipykernel_9676\\570989941.py\u001b[0m in \u001b[0;36m<module>\u001b[1;34m\u001b[0m\n\u001b[1;32m----> 1\u001b[1;33m \u001b[0mmystring\u001b[0m\u001b[1;33m[\u001b[0m\u001b[1;36m100\u001b[0m\u001b[1;33m]\u001b[0m\u001b[1;33m\u001b[0m\u001b[1;33m\u001b[0m\u001b[0m\n\u001b[0m",
      "\u001b[1;31mIndexError\u001b[0m: string index out of range"
     ]
    }
   ],
   "source": [
    "mystring[100]"
   ]
  },
  {
   "cell_type": "code",
   "execution_count": 15,
   "id": "81cd75e3",
   "metadata": {},
   "outputs": [
    {
     "data": {
      "text/plain": [
       "'e'"
      ]
     },
     "execution_count": 15,
     "metadata": {},
     "output_type": "execute_result"
    }
   ],
   "source": [
    "mystring[1]"
   ]
  },
  {
   "cell_type": "code",
   "execution_count": 16,
   "id": "14fcd0a0",
   "metadata": {},
   "outputs": [
    {
     "data": {
      "text/plain": [
       "'d'"
      ]
     },
     "execution_count": 16,
     "metadata": {},
     "output_type": "execute_result"
    }
   ],
   "source": [
    "mystring[-1]"
   ]
  },
  {
   "cell_type": "code",
   "execution_count": 17,
   "id": "a6079e62",
   "metadata": {},
   "outputs": [
    {
     "ename": "SyntaxError",
     "evalue": "unexpected EOF while parsing (2316714106.py, line 1)",
     "output_type": "error",
     "traceback": [
      "\u001b[1;36m  File \u001b[1;32m\"C:\\Users\\Asus\\AppData\\Local\\Temp\\ipykernel_9676\\2316714106.py\"\u001b[1;36m, line \u001b[1;32m1\u001b[0m\n\u001b[1;33m    mystring[-5\u001b[0m\n\u001b[1;37m               ^\u001b[0m\n\u001b[1;31mSyntaxError\u001b[0m\u001b[1;31m:\u001b[0m unexpected EOF while parsing\n"
     ]
    }
   ],
   "source": [
    "mystring[-5"
   ]
  },
  {
   "cell_type": "code",
   "execution_count": 18,
   "id": "3e048806",
   "metadata": {},
   "outputs": [
    {
     "data": {
      "text/plain": [
       "'w'"
      ]
     },
     "execution_count": 18,
     "metadata": {},
     "output_type": "execute_result"
    }
   ],
   "source": [
    "mystring[-5]"
   ]
  },
  {
   "cell_type": "code",
   "execution_count": 19,
   "id": "70cd546b",
   "metadata": {},
   "outputs": [
    {
     "data": {
      "text/plain": [
       "'h'"
      ]
     },
     "execution_count": 19,
     "metadata": {},
     "output_type": "execute_result"
    }
   ],
   "source": [
    "mystring[-11]"
   ]
  },
  {
   "cell_type": "code",
   "execution_count": 20,
   "id": "ed9b4d84",
   "metadata": {},
   "outputs": [],
   "source": [
    "mystring = 'abcdefghi'"
   ]
  },
  {
   "cell_type": "code",
   "execution_count": 21,
   "id": "f3016a44",
   "metadata": {},
   "outputs": [
    {
     "data": {
      "text/plain": [
       "'cdefghi'"
      ]
     },
     "execution_count": 21,
     "metadata": {},
     "output_type": "execute_result"
    }
   ],
   "source": [
    "mystring[2:]"
   ]
  },
  {
   "cell_type": "code",
   "execution_count": 22,
   "id": "9f5f7483",
   "metadata": {},
   "outputs": [
    {
     "data": {
      "text/plain": [
       "'abc'"
      ]
     },
     "execution_count": 22,
     "metadata": {},
     "output_type": "execute_result"
    }
   ],
   "source": [
    "mystring[:3]"
   ]
  },
  {
   "cell_type": "code",
   "execution_count": 23,
   "id": "aedc8ddb",
   "metadata": {},
   "outputs": [
    {
     "data": {
      "text/plain": [
       "'de'"
      ]
     },
     "execution_count": 23,
     "metadata": {},
     "output_type": "execute_result"
    }
   ],
   "source": [
    "mystring[3:5]"
   ]
  },
  {
   "cell_type": "code",
   "execution_count": 24,
   "id": "9d96bca2",
   "metadata": {},
   "outputs": [
    {
     "ename": "SyntaxError",
     "evalue": "invalid syntax (3819821360.py, line 1)",
     "output_type": "error",
     "traceback": [
      "\u001b[1;36m  File \u001b[1;32m\"C:\\Users\\Asus\\AppData\\Local\\Temp\\ipykernel_9676\\3819821360.py\"\u001b[1;36m, line \u001b[1;32m1\u001b[0m\n\u001b[1;33m    mystring{1:3}\u001b[0m\n\u001b[1;37m            ^\u001b[0m\n\u001b[1;31mSyntaxError\u001b[0m\u001b[1;31m:\u001b[0m invalid syntax\n"
     ]
    }
   ],
   "source": [
    "mystring{1:3}"
   ]
  },
  {
   "cell_type": "code",
   "execution_count": 25,
   "id": "171cee30",
   "metadata": {},
   "outputs": [
    {
     "data": {
      "text/plain": [
       "'bc'"
      ]
     },
     "execution_count": 25,
     "metadata": {},
     "output_type": "execute_result"
    }
   ],
   "source": [
    "mystring[1:3]"
   ]
  },
  {
   "cell_type": "code",
   "execution_count": 26,
   "id": "937ecad8",
   "metadata": {},
   "outputs": [
    {
     "data": {
      "text/plain": [
       "'abcdefghi'"
      ]
     },
     "execution_count": 26,
     "metadata": {},
     "output_type": "execute_result"
    }
   ],
   "source": [
    "mystring\n"
   ]
  },
  {
   "cell_type": "code",
   "execution_count": 27,
   "id": "1b2a3da7",
   "metadata": {},
   "outputs": [
    {
     "data": {
      "text/plain": [
       "'acegi'"
      ]
     },
     "execution_count": 27,
     "metadata": {},
     "output_type": "execute_result"
    }
   ],
   "source": [
    "mystring[::2]"
   ]
  },
  {
   "cell_type": "code",
   "execution_count": 28,
   "id": "5ad6740e",
   "metadata": {},
   "outputs": [
    {
     "data": {
      "text/plain": [
       "'adg'"
      ]
     },
     "execution_count": 28,
     "metadata": {},
     "output_type": "execute_result"
    }
   ],
   "source": [
    "mystring[::1+2]"
   ]
  },
  {
   "cell_type": "code",
   "execution_count": 29,
   "id": "870567bc",
   "metadata": {},
   "outputs": [
    {
     "ename": "SyntaxError",
     "evalue": "unexpected EOF while parsing (1934995045.py, line 1)",
     "output_type": "error",
     "traceback": [
      "\u001b[1;36m  File \u001b[1;32m\"C:\\Users\\Asus\\AppData\\Local\\Temp\\ipykernel_9676\\1934995045.py\"\u001b[1;36m, line \u001b[1;32m1\u001b[0m\n\u001b[1;33m    mystring[::3\u001b[0m\n\u001b[1;37m                ^\u001b[0m\n\u001b[1;31mSyntaxError\u001b[0m\u001b[1;31m:\u001b[0m unexpected EOF while parsing\n"
     ]
    }
   ],
   "source": [
    "mystring[::3"
   ]
  },
  {
   "cell_type": "code",
   "execution_count": 30,
   "id": "e539580d",
   "metadata": {},
   "outputs": [
    {
     "data": {
      "text/plain": [
       "'adg'"
      ]
     },
     "execution_count": 30,
     "metadata": {},
     "output_type": "execute_result"
    }
   ],
   "source": [
    "mystring[::3]"
   ]
  },
  {
   "cell_type": "code",
   "execution_count": 31,
   "id": "ea5cccc7",
   "metadata": {},
   "outputs": [
    {
     "data": {
      "text/plain": [
       "'abcdefghi'"
      ]
     },
     "execution_count": 31,
     "metadata": {},
     "output_type": "execute_result"
    }
   ],
   "source": [
    "mystring"
   ]
  },
  {
   "cell_type": "code",
   "execution_count": 32,
   "id": "6bf1a7d0",
   "metadata": {},
   "outputs": [
    {
     "data": {
      "text/plain": [
       "'ace'"
      ]
     },
     "execution_count": 32,
     "metadata": {},
     "output_type": "execute_result"
    }
   ],
   "source": [
    "mystring[0:5:2]"
   ]
  },
  {
   "cell_type": "code",
   "execution_count": 33,
   "id": "f197f66b",
   "metadata": {},
   "outputs": [],
   "source": [
    "name=\"sam\""
   ]
  },
  {
   "cell_type": "code",
   "execution_count": 34,
   "id": "76b5d372",
   "metadata": {},
   "outputs": [],
   "source": [
    "name1 = \"p\""
   ]
  },
  {
   "cell_type": "code",
   "execution_count": 35,
   "id": "b6700b8d",
   "metadata": {},
   "outputs": [],
   "source": [
    "ouput = name1 + name[1::]"
   ]
  },
  {
   "cell_type": "code",
   "execution_count": 36,
   "id": "2faed023",
   "metadata": {},
   "outputs": [
    {
     "ename": "NameError",
     "evalue": "name 'output' is not defined",
     "output_type": "error",
     "traceback": [
      "\u001b[1;31m---------------------------------------------------------------------------\u001b[0m",
      "\u001b[1;31mNameError\u001b[0m                                 Traceback (most recent call last)",
      "\u001b[1;32m~\\AppData\\Local\\Temp\\ipykernel_9676\\4201221482.py\u001b[0m in \u001b[0;36m<module>\u001b[1;34m\u001b[0m\n\u001b[1;32m----> 1\u001b[1;33m \u001b[0mprint\u001b[0m\u001b[1;33m(\u001b[0m\u001b[0moutput\u001b[0m\u001b[1;33m)\u001b[0m\u001b[1;33m\u001b[0m\u001b[1;33m\u001b[0m\u001b[0m\n\u001b[0m",
      "\u001b[1;31mNameError\u001b[0m: name 'output' is not defined"
     ]
    }
   ],
   "source": [
    "print(output)"
   ]
  },
  {
   "cell_type": "code",
   "execution_count": 37,
   "id": "e94f3307",
   "metadata": {},
   "outputs": [
    {
     "data": {
      "text/plain": [
       "'pam'"
      ]
     },
     "execution_count": 37,
     "metadata": {},
     "output_type": "execute_result"
    }
   ],
   "source": [
    "ouput"
   ]
  },
  {
   "cell_type": "code",
   "execution_count": 38,
   "id": "6109e29b",
   "metadata": {},
   "outputs": [
    {
     "name": "stdout",
     "output_type": "stream",
     "text": [
      "pam\n"
     ]
    }
   ],
   "source": [
    "print(ouput)"
   ]
  },
  {
   "cell_type": "code",
   "execution_count": 39,
   "id": "f8965e04",
   "metadata": {},
   "outputs": [],
   "source": [
    "name = \"het\""
   ]
  },
  {
   "cell_type": "code",
   "execution_count": 40,
   "id": "c8d90d1a",
   "metadata": {},
   "outputs": [
    {
     "data": {
      "text/plain": [
       "'hethethethethethethethethethet'"
      ]
     },
     "execution_count": 40,
     "metadata": {},
     "output_type": "execute_result"
    }
   ],
   "source": [
    "name* 10"
   ]
  },
  {
   "cell_type": "code",
   "execution_count": 41,
   "id": "82102f14",
   "metadata": {},
   "outputs": [
    {
     "data": {
      "text/plain": [
       "'33'"
      ]
     },
     "execution_count": 41,
     "metadata": {},
     "output_type": "execute_result"
    }
   ],
   "source": [
    "'3'+\"3\""
   ]
  },
  {
   "cell_type": "code",
   "execution_count": 42,
   "id": "2878b165",
   "metadata": {},
   "outputs": [],
   "source": [
    "x = 'hello WOrld'"
   ]
  },
  {
   "cell_type": "code",
   "execution_count": 43,
   "id": "f4aed073",
   "metadata": {},
   "outputs": [
    {
     "data": {
      "text/plain": [
       "'HELLO WORLD'"
      ]
     },
     "execution_count": 43,
     "metadata": {},
     "output_type": "execute_result"
    }
   ],
   "source": [
    "x.upper()"
   ]
  },
  {
   "cell_type": "code",
   "execution_count": 44,
   "id": "518491f0",
   "metadata": {},
   "outputs": [
    {
     "data": {
      "text/plain": [
       "'hello WOrld'"
      ]
     },
     "execution_count": 44,
     "metadata": {},
     "output_type": "execute_result"
    }
   ],
   "source": [
    "x"
   ]
  },
  {
   "cell_type": "code",
   "execution_count": 45,
   "id": "b33ab426",
   "metadata": {},
   "outputs": [
    {
     "data": {
      "text/plain": [
       "['hello', 'WOrld']"
      ]
     },
     "execution_count": 45,
     "metadata": {},
     "output_type": "execute_result"
    }
   ],
   "source": [
    "x.split()"
   ]
  },
  {
   "cell_type": "code",
   "execution_count": 46,
   "id": "952b335d",
   "metadata": {},
   "outputs": [
    {
     "data": {
      "text/plain": [
       "['he', '', 'o WOr', 'd']"
      ]
     },
     "execution_count": 46,
     "metadata": {},
     "output_type": "execute_result"
    }
   ],
   "source": [
    "x.split('l')"
   ]
  },
  {
   "cell_type": "code",
   "execution_count": 47,
   "id": "d21e0a24",
   "metadata": {},
   "outputs": [],
   "source": [
    "name = 'het'"
   ]
  },
  {
   "cell_type": "code",
   "execution_count": 49,
   "id": "39c637c7",
   "metadata": {},
   "outputs": [
    {
     "name": "stdout",
     "output_type": "stream",
     "text": [
      "het hello my name is het\n"
     ]
    }
   ],
   "source": [
    "print(name + ' hello my name is het')"
   ]
  },
  {
   "cell_type": "code",
   "execution_count": 52,
   "id": "b649342c",
   "metadata": {},
   "outputs": [
    {
     "name": "stdout",
     "output_type": "stream",
     "text": [
      "hello hello\n"
     ]
    }
   ],
   "source": [
    "print('hello {}'.format('hello'))"
   ]
  },
  {
   "cell_type": "code",
   "execution_count": 54,
   "id": "73406566",
   "metadata": {},
   "outputs": [
    {
     "name": "stdout",
     "output_type": "stream",
     "text": [
      "hello Het , ,\n"
     ]
    }
   ],
   "source": [
    "print('hello {2} {0} {0}'.format(',' , 'my name is ' , 'Het')) "
   ]
  },
  {
   "cell_type": "code",
   "execution_count": 55,
   "id": "3792cda1",
   "metadata": {},
   "outputs": [],
   "source": [
    "result = 100/777"
   ]
  },
  {
   "cell_type": "code",
   "execution_count": 56,
   "id": "b564757a",
   "metadata": {},
   "outputs": [
    {
     "data": {
      "text/plain": [
       "0.1287001287001287"
      ]
     },
     "execution_count": 56,
     "metadata": {},
     "output_type": "execute_result"
    }
   ],
   "source": [
    "result\n"
   ]
  },
  {
   "cell_type": "code",
   "execution_count": 57,
   "id": "1bbc7d6d",
   "metadata": {},
   "outputs": [
    {
     "name": "stdout",
     "output_type": "stream",
     "text": [
      "the result is : 0.129\n"
     ]
    }
   ],
   "source": [
    "print('the result is : {r:1.3f}' .format(r=result) )"
   ]
  },
  {
   "cell_type": "code",
   "execution_count": 58,
   "id": "193f16ad",
   "metadata": {},
   "outputs": [],
   "source": [
    "name = 'shah het'"
   ]
  },
  {
   "cell_type": "code",
   "execution_count": 59,
   "id": "9139307d",
   "metadata": {},
   "outputs": [
    {
     "name": "stdout",
     "output_type": "stream",
     "text": [
      "Hello Everyone My name is : shah het\n"
     ]
    }
   ],
   "source": [
    "print(f\"Hello Everyone My name is : {name}\")"
   ]
  },
  {
   "cell_type": "code",
   "execution_count": 60,
   "id": "4893c57d",
   "metadata": {},
   "outputs": [],
   "source": [
    "my_lists = [1,2,3.4 , \"het\"]"
   ]
  },
  {
   "cell_type": "code",
   "execution_count": 61,
   "id": "b5398ab0",
   "metadata": {},
   "outputs": [
    {
     "name": "stdout",
     "output_type": "stream",
     "text": [
      "4\n"
     ]
    }
   ],
   "source": [
    "print(len(my_lists))"
   ]
  },
  {
   "cell_type": "code",
   "execution_count": 63,
   "id": "ad123603",
   "metadata": {},
   "outputs": [
    {
     "data": {
      "text/plain": [
       "[3.4, 'het']"
      ]
     },
     "execution_count": 63,
     "metadata": {},
     "output_type": "execute_result"
    }
   ],
   "source": [
    "my_lists[2::]"
   ]
  },
  {
   "cell_type": "code",
   "execution_count": 66,
   "id": "cfb17dec",
   "metadata": {},
   "outputs": [],
   "source": [
    "my_lists[0] = \"Coding\""
   ]
  },
  {
   "cell_type": "code",
   "execution_count": 67,
   "id": "ec215cd5",
   "metadata": {},
   "outputs": [
    {
     "data": {
      "text/plain": [
       "['Coding', 2, 3.4, 'het']"
      ]
     },
     "execution_count": 67,
     "metadata": {},
     "output_type": "execute_result"
    }
   ],
   "source": [
    "my_lists"
   ]
  },
  {
   "cell_type": "code",
   "execution_count": 68,
   "id": "4bde146b",
   "metadata": {},
   "outputs": [],
   "source": [
    "my_lists.append('Shah')"
   ]
  },
  {
   "cell_type": "code",
   "execution_count": 69,
   "id": "f41c1073",
   "metadata": {},
   "outputs": [
    {
     "data": {
      "text/plain": [
       "['Coding', 2, 3.4, 'het', 'Shah']"
      ]
     },
     "execution_count": 69,
     "metadata": {},
     "output_type": "execute_result"
    }
   ],
   "source": [
    "my_lists"
   ]
  },
  {
   "cell_type": "code",
   "execution_count": 70,
   "id": "ecf5b1b1",
   "metadata": {},
   "outputs": [
    {
     "data": {
      "text/plain": [
       "'Shah'"
      ]
     },
     "execution_count": 70,
     "metadata": {},
     "output_type": "execute_result"
    }
   ],
   "source": [
    "my_lists.pop()"
   ]
  },
  {
   "cell_type": "code",
   "execution_count": 71,
   "id": "9fce600f",
   "metadata": {},
   "outputs": [
    {
     "data": {
      "text/plain": [
       "['Coding', 2, 3.4, 'het']"
      ]
     },
     "execution_count": 71,
     "metadata": {},
     "output_type": "execute_result"
    }
   ],
   "source": [
    "my_lists"
   ]
  },
  {
   "cell_type": "code",
   "execution_count": 72,
   "id": "c75fc4d2",
   "metadata": {},
   "outputs": [
    {
     "data": {
      "text/plain": [
       "'Coding'"
      ]
     },
     "execution_count": 72,
     "metadata": {},
     "output_type": "execute_result"
    }
   ],
   "source": [
    "my_lists.pop(0)"
   ]
  },
  {
   "cell_type": "code",
   "execution_count": 73,
   "id": "7818a815",
   "metadata": {},
   "outputs": [
    {
     "data": {
      "text/plain": [
       "[2, 3.4, 'het']"
      ]
     },
     "execution_count": 73,
     "metadata": {},
     "output_type": "execute_result"
    }
   ],
   "source": [
    "my_lists"
   ]
  },
  {
   "cell_type": "code",
   "execution_count": 74,
   "id": "3c20ce74",
   "metadata": {},
   "outputs": [],
   "source": [
    "new_lists = ['a','e','h','b','c']\n",
    "num_lists = [1,24,245,2,1]"
   ]
  },
  {
   "cell_type": "code",
   "execution_count": 75,
   "id": "c985a9c0",
   "metadata": {},
   "outputs": [],
   "source": [
    "new_lists.sort()"
   ]
  },
  {
   "cell_type": "code",
   "execution_count": 76,
   "id": "1bcdcc2b",
   "metadata": {},
   "outputs": [
    {
     "data": {
      "text/plain": [
       "['a', 'b', 'c', 'e', 'h']"
      ]
     },
     "execution_count": 76,
     "metadata": {},
     "output_type": "execute_result"
    }
   ],
   "source": [
    "new_lists"
   ]
  },
  {
   "cell_type": "code",
   "execution_count": 77,
   "id": "2549f7a1",
   "metadata": {},
   "outputs": [],
   "source": [
    "new_lists.reverse()"
   ]
  },
  {
   "cell_type": "code",
   "execution_count": 78,
   "id": "ff4b49a1",
   "metadata": {},
   "outputs": [
    {
     "data": {
      "text/plain": [
       "['h', 'e', 'c', 'b', 'a']"
      ]
     },
     "execution_count": 78,
     "metadata": {},
     "output_type": "execute_result"
    }
   ],
   "source": [
    "new_lists"
   ]
  },
  {
   "cell_type": "code",
   "execution_count": 79,
   "id": "56d4c621",
   "metadata": {},
   "outputs": [],
   "source": [
    "my_dic = {\"id\":1 , \"Name\":\"het shah\"}"
   ]
  },
  {
   "cell_type": "code",
   "execution_count": 82,
   "id": "b2117ff2",
   "metadata": {},
   "outputs": [
    {
     "data": {
      "text/plain": [
       "1"
      ]
     },
     "execution_count": 82,
     "metadata": {},
     "output_type": "execute_result"
    }
   ],
   "source": [
    "my_dic['id']"
   ]
  },
  {
   "cell_type": "code",
   "execution_count": 83,
   "id": "58b2f8b5",
   "metadata": {},
   "outputs": [],
   "source": [
    "my_dic['new'] = 'hiteshbhai'"
   ]
  },
  {
   "cell_type": "code",
   "execution_count": 84,
   "id": "fa858c45",
   "metadata": {},
   "outputs": [
    {
     "data": {
      "text/plain": [
       "{'id': 1, 'Name': 'het shah', 'new': 'hiteshbhai'}"
      ]
     },
     "execution_count": 84,
     "metadata": {},
     "output_type": "execute_result"
    }
   ],
   "source": [
    "my_dic"
   ]
  },
  {
   "cell_type": "code",
   "execution_count": 87,
   "id": "eea161ff",
   "metadata": {},
   "outputs": [
    {
     "data": {
      "text/plain": [
       "dict_keys(['id', 'Name', 'new'])"
      ]
     },
     "execution_count": 87,
     "metadata": {},
     "output_type": "execute_result"
    }
   ],
   "source": [
    "my_dic.keys()"
   ]
  },
  {
   "cell_type": "code",
   "execution_count": 88,
   "id": "6c3c0d49",
   "metadata": {},
   "outputs": [
    {
     "data": {
      "text/plain": [
       "dict_values([1, 'het shah', 'hiteshbhai'])"
      ]
     },
     "execution_count": 88,
     "metadata": {},
     "output_type": "execute_result"
    }
   ],
   "source": [
    "my_dic.values()"
   ]
  },
  {
   "cell_type": "code",
   "execution_count": 89,
   "id": "6b23b19f",
   "metadata": {},
   "outputs": [
    {
     "data": {
      "text/plain": [
       "dict_items([('id', 1), ('Name', 'het shah'), ('new', 'hiteshbhai')])"
      ]
     },
     "execution_count": 89,
     "metadata": {},
     "output_type": "execute_result"
    }
   ],
   "source": [
    "my_dic.items()"
   ]
  },
  {
   "cell_type": "code",
   "execution_count": 90,
   "id": "36f32482",
   "metadata": {},
   "outputs": [],
   "source": [
    "mySets = set()"
   ]
  },
  {
   "cell_type": "code",
   "execution_count": 91,
   "id": "0abe41ed",
   "metadata": {},
   "outputs": [],
   "source": [
    "mySets.add('het')"
   ]
  },
  {
   "cell_type": "code",
   "execution_count": 92,
   "id": "9662ccb0",
   "metadata": {},
   "outputs": [
    {
     "data": {
      "text/plain": [
       "{'het'}"
      ]
     },
     "execution_count": 92,
     "metadata": {},
     "output_type": "execute_result"
    }
   ],
   "source": [
    "mySets"
   ]
  },
  {
   "cell_type": "code",
   "execution_count": 93,
   "id": "8f9dcb3a",
   "metadata": {},
   "outputs": [],
   "source": [
    "mySets.add('het')"
   ]
  },
  {
   "cell_type": "code",
   "execution_count": 94,
   "id": "b567009b",
   "metadata": {},
   "outputs": [
    {
     "data": {
      "text/plain": [
       "{'het'}"
      ]
     },
     "execution_count": 94,
     "metadata": {},
     "output_type": "execute_result"
    }
   ],
   "source": [
    "mySets"
   ]
  },
  {
   "cell_type": "code",
   "execution_count": 95,
   "id": "6a97d1eb",
   "metadata": {},
   "outputs": [],
   "source": [
    "mySets.add('Het')"
   ]
  },
  {
   "cell_type": "code",
   "execution_count": 96,
   "id": "a35180c8",
   "metadata": {},
   "outputs": [
    {
     "data": {
      "text/plain": [
       "{'Het', 'het'}"
      ]
     },
     "execution_count": 96,
     "metadata": {},
     "output_type": "execute_result"
    }
   ],
   "source": [
    "mySets"
   ]
  },
  {
   "cell_type": "code",
   "execution_count": 97,
   "id": "91368122",
   "metadata": {},
   "outputs": [
    {
     "name": "stdout",
     "output_type": "stream",
     "text": [
      "Writing myfile.txt\n"
     ]
    }
   ],
   "source": [
    "%%writefile myfile.txt\n",
    "this is a test file"
   ]
  },
  {
   "cell_type": "code",
   "execution_count": 98,
   "id": "eb1a108b",
   "metadata": {},
   "outputs": [
    {
     "data": {
      "text/plain": [
       "'C:\\\\Users\\\\Asus\\\\Python Notebook'"
      ]
     },
     "execution_count": 98,
     "metadata": {},
     "output_type": "execute_result"
    }
   ],
   "source": [
    "pwd"
   ]
  },
  {
   "cell_type": "code",
   "execution_count": 99,
   "id": "f9a4e808",
   "metadata": {},
   "outputs": [],
   "source": [
    "myfile = open('myfile.txt')"
   ]
  },
  {
   "cell_type": "code",
   "execution_count": 100,
   "id": "e8123044",
   "metadata": {},
   "outputs": [
    {
     "data": {
      "text/plain": [
       "<function TextIOWrapper.read(size=-1, /)>"
      ]
     },
     "execution_count": 100,
     "metadata": {},
     "output_type": "execute_result"
    }
   ],
   "source": [
    "myfile.read"
   ]
  },
  {
   "cell_type": "code",
   "execution_count": 101,
   "id": "edf0a966",
   "metadata": {},
   "outputs": [
    {
     "data": {
      "text/plain": [
       "'this is a test file\\n'"
      ]
     },
     "execution_count": 101,
     "metadata": {},
     "output_type": "execute_result"
    }
   ],
   "source": [
    "myfile.read()"
   ]
  },
  {
   "cell_type": "code",
   "execution_count": 102,
   "id": "219f7795",
   "metadata": {},
   "outputs": [
    {
     "data": {
      "text/plain": [
       "''"
      ]
     },
     "execution_count": 102,
     "metadata": {},
     "output_type": "execute_result"
    }
   ],
   "source": [
    "myfile.read()"
   ]
  },
  {
   "cell_type": "code",
   "execution_count": 103,
   "id": "d46736fb",
   "metadata": {},
   "outputs": [
    {
     "data": {
      "text/plain": [
       "0"
      ]
     },
     "execution_count": 103,
     "metadata": {},
     "output_type": "execute_result"
    }
   ],
   "source": [
    "myfile.seek(0)"
   ]
  },
  {
   "cell_type": "code",
   "execution_count": 104,
   "id": "d9c74301",
   "metadata": {},
   "outputs": [
    {
     "data": {
      "text/plain": [
       "'this is a test file\\n'"
      ]
     },
     "execution_count": 104,
     "metadata": {},
     "output_type": "execute_result"
    }
   ],
   "source": [
    "myfile.read()"
   ]
  },
  {
   "cell_type": "code",
   "execution_count": 105,
   "id": "acd666ea",
   "metadata": {},
   "outputs": [
    {
     "data": {
      "text/plain": [
       "0"
      ]
     },
     "execution_count": 105,
     "metadata": {},
     "output_type": "execute_result"
    }
   ],
   "source": [
    "myfile.seek(0)"
   ]
  },
  {
   "cell_type": "code",
   "execution_count": 106,
   "id": "94b23f4a",
   "metadata": {},
   "outputs": [
    {
     "data": {
      "text/plain": [
       "['this is a test file\\n']"
      ]
     },
     "execution_count": 106,
     "metadata": {},
     "output_type": "execute_result"
    }
   ],
   "source": [
    "myfile.readlines()"
   ]
  },
  {
   "cell_type": "code",
   "execution_count": 107,
   "id": "343bb22a",
   "metadata": {},
   "outputs": [],
   "source": [
    "myfile.close()"
   ]
  },
  {
   "cell_type": "code",
   "execution_count": 108,
   "id": "cefb174e",
   "metadata": {},
   "outputs": [],
   "source": [
    "with open('myfile.txt') as het:\n",
    "    content = het.read()"
   ]
  },
  {
   "cell_type": "code",
   "execution_count": 109,
   "id": "9e4d70e0",
   "metadata": {},
   "outputs": [
    {
     "data": {
      "text/plain": [
       "'this is a test file\\n'"
      ]
     },
     "execution_count": 109,
     "metadata": {},
     "output_type": "execute_result"
    }
   ],
   "source": [
    "content"
   ]
  },
  {
   "cell_type": "code",
   "execution_count": 111,
   "id": "75abd935",
   "metadata": {},
   "outputs": [],
   "source": [
    "with open('myfile.txt' ,mode='r') as hetshah:\n",
    "    content = hetshah.read()"
   ]
  },
  {
   "cell_type": "code",
   "execution_count": 112,
   "id": "d334667a",
   "metadata": {},
   "outputs": [
    {
     "data": {
      "text/plain": [
       "'this is a test file\\n'"
      ]
     },
     "execution_count": 112,
     "metadata": {},
     "output_type": "execute_result"
    }
   ],
   "source": [
    "content"
   ]
  },
  {
   "cell_type": "code",
   "execution_count": 120,
   "id": "2520ab88",
   "metadata": {},
   "outputs": [],
   "source": [
    "with open('myfile.txt' ,mode='a') as hetshah:\n",
    "    hetshah.write('\\nshah het')"
   ]
  },
  {
   "cell_type": "code",
   "execution_count": 121,
   "id": "68e5e399",
   "metadata": {},
   "outputs": [],
   "source": [
    "with open('myfile.txt' ,mode='r') as hetshah:\n",
    "    content = hetshah.read()"
   ]
  },
  {
   "cell_type": "code",
   "execution_count": 122,
   "id": "f964d006",
   "metadata": {},
   "outputs": [
    {
     "data": {
      "text/plain": [
       "'this is a test file\\nshah het/nshah het\\nshah het'"
      ]
     },
     "execution_count": 122,
     "metadata": {},
     "output_type": "execute_result"
    }
   ],
   "source": [
    "content"
   ]
  },
  {
   "cell_type": "code",
   "execution_count": 1,
   "id": "80405c46",
   "metadata": {},
   "outputs": [],
   "source": [
    "a = 10"
   ]
  },
  {
   "cell_type": "code",
   "execution_count": 2,
   "id": "da3c2c85",
   "metadata": {},
   "outputs": [
    {
     "data": {
      "text/plain": [
       "10"
      ]
     },
     "execution_count": 2,
     "metadata": {},
     "output_type": "execute_result"
    }
   ],
   "source": [
    "a"
   ]
  },
  {
   "cell_type": "code",
   "execution_count": 3,
   "id": "da467d30",
   "metadata": {},
   "outputs": [],
   "source": [
    "a = \"het\""
   ]
  },
  {
   "cell_type": "code",
   "execution_count": 4,
   "id": "d3baf9ab",
   "metadata": {},
   "outputs": [
    {
     "data": {
      "text/plain": [
       "'het'"
      ]
     },
     "execution_count": 4,
     "metadata": {},
     "output_type": "execute_result"
    }
   ],
   "source": [
    "a"
   ]
  },
  {
   "cell_type": "code",
   "execution_count": 5,
   "id": "22946cfa",
   "metadata": {},
   "outputs": [],
   "source": [
    "a =  [1,2,3,4,5]"
   ]
  },
  {
   "cell_type": "code",
   "execution_count": 6,
   "id": "bd0cfbd7",
   "metadata": {},
   "outputs": [
    {
     "data": {
      "text/plain": [
       "list"
      ]
     },
     "execution_count": 6,
     "metadata": {},
     "output_type": "execute_result"
    }
   ],
   "source": [
    "type(a)"
   ]
  },
  {
   "cell_type": "code",
   "execution_count": 7,
   "id": "e9737328",
   "metadata": {},
   "outputs": [],
   "source": [
    "a = {\"id\":1 , \"Name\":\"shah het\"}"
   ]
  },
  {
   "cell_type": "code",
   "execution_count": 8,
   "id": "a705d13c",
   "metadata": {},
   "outputs": [
    {
     "data": {
      "text/plain": [
       "{'id': 1, 'Name': 'shah het'}"
      ]
     },
     "execution_count": 8,
     "metadata": {},
     "output_type": "execute_result"
    }
   ],
   "source": [
    "a"
   ]
  },
  {
   "cell_type": "code",
   "execution_count": 9,
   "id": "883307e7",
   "metadata": {},
   "outputs": [
    {
     "data": {
      "text/plain": [
       "dict"
      ]
     },
     "execution_count": 9,
     "metadata": {},
     "output_type": "execute_result"
    }
   ],
   "source": [
    "type(a)"
   ]
  },
  {
   "cell_type": "code",
   "execution_count": 10,
   "id": "8ffc630e",
   "metadata": {},
   "outputs": [
    {
     "data": {
      "text/plain": [
       "<function dict.items>"
      ]
     },
     "execution_count": 10,
     "metadata": {},
     "output_type": "execute_result"
    }
   ],
   "source": [
    "a.items"
   ]
  },
  {
   "cell_type": "code",
   "execution_count": 11,
   "id": "fdf7cb03",
   "metadata": {},
   "outputs": [
    {
     "data": {
      "text/plain": [
       "dict_items([('id', 1), ('Name', 'shah het')])"
      ]
     },
     "execution_count": 11,
     "metadata": {},
     "output_type": "execute_result"
    }
   ],
   "source": [
    "a.items()"
   ]
  },
  {
   "cell_type": "code",
   "execution_count": 12,
   "id": "cfde8f6f",
   "metadata": {},
   "outputs": [
    {
     "data": {
      "text/plain": [
       "dict_values([1, 'shah het'])"
      ]
     },
     "execution_count": 12,
     "metadata": {},
     "output_type": "execute_result"
    }
   ],
   "source": [
    "a.values()"
   ]
  },
  {
   "cell_type": "code",
   "execution_count": 13,
   "id": "69c52b92",
   "metadata": {},
   "outputs": [
    {
     "data": {
      "text/plain": [
       "dict_items([('id', 1), ('Name', 'shah het')])"
      ]
     },
     "execution_count": 13,
     "metadata": {},
     "output_type": "execute_result"
    }
   ],
   "source": [
    "a.items()"
   ]
  },
  {
   "cell_type": "code",
   "execution_count": 15,
   "id": "04c21106",
   "metadata": {},
   "outputs": [],
   "source": [
    "a = set()"
   ]
  },
  {
   "cell_type": "code",
   "execution_count": 18,
   "id": "3b14f5c9",
   "metadata": {},
   "outputs": [],
   "source": [
    "a.add(1)"
   ]
  },
  {
   "cell_type": "code",
   "execution_count": 20,
   "id": "2c2ed2bf",
   "metadata": {},
   "outputs": [],
   "source": [
    "a.add(1)"
   ]
  },
  {
   "cell_type": "code",
   "execution_count": 21,
   "id": "57e32499",
   "metadata": {},
   "outputs": [
    {
     "data": {
      "text/plain": [
       "{1}"
      ]
     },
     "execution_count": 21,
     "metadata": {},
     "output_type": "execute_result"
    }
   ],
   "source": [
    "a"
   ]
  },
  {
   "cell_type": "code",
   "execution_count": 22,
   "id": "46d5f378",
   "metadata": {},
   "outputs": [],
   "source": [
    "a.add(12)"
   ]
  },
  {
   "cell_type": "code",
   "execution_count": 23,
   "id": "9e2b82f5",
   "metadata": {},
   "outputs": [
    {
     "data": {
      "text/plain": [
       "{1, 12}"
      ]
     },
     "execution_count": 23,
     "metadata": {},
     "output_type": "execute_result"
    }
   ],
   "source": [
    "a"
   ]
  },
  {
   "cell_type": "code",
   "execution_count": 28,
   "id": "0c21f04a",
   "metadata": {},
   "outputs": [],
   "source": [
    "a = ((100*100)+(50/2))/100"
   ]
  },
  {
   "cell_type": "code",
   "execution_count": 37,
   "id": "e65571f0",
   "metadata": {},
   "outputs": [
    {
     "name": "stdout",
     "output_type": "stream",
     "text": [
      "100.25\n"
     ]
    }
   ],
   "source": [
    "print(a)"
   ]
  },
  {
   "cell_type": "code",
   "execution_count": 45,
   "id": "7307972b",
   "metadata": {},
   "outputs": [
    {
     "name": "stdout",
     "output_type": "stream",
     "text": [
      "25.001\n"
     ]
    }
   ],
   "source": [
    "print(((25*1000)+ (1/1))/1000)"
   ]
  },
  {
   "cell_type": "code",
   "execution_count": 46,
   "id": "cce0b0b9",
   "metadata": {},
   "outputs": [],
   "source": [
    "a = 3+ 1.5 + 4"
   ]
  },
  {
   "cell_type": "code",
   "execution_count": 47,
   "id": "ca377c06",
   "metadata": {},
   "outputs": [
    {
     "data": {
      "text/plain": [
       "float"
      ]
     },
     "execution_count": 47,
     "metadata": {},
     "output_type": "execute_result"
    }
   ],
   "source": [
    "type(a)"
   ]
  },
  {
   "cell_type": "code",
   "execution_count": 48,
   "id": "fe6327d0",
   "metadata": {},
   "outputs": [],
   "source": [
    "a = 16"
   ]
  },
  {
   "cell_type": "code",
   "execution_count": 50,
   "id": "b3b64957",
   "metadata": {},
   "outputs": [],
   "source": [
    "b = a*a"
   ]
  },
  {
   "cell_type": "code",
   "execution_count": 79,
   "id": "569fd861",
   "metadata": {},
   "outputs": [],
   "source": [
    "a = \"hello\""
   ]
  },
  {
   "cell_type": "code",
   "execution_count": 109,
   "id": "4924dee0",
   "metadata": {},
   "outputs": [],
   "source": [
    "list = ['0']"
   ]
  },
  {
   "cell_type": "code",
   "execution_count": 110,
   "id": "68349b0b",
   "metadata": {},
   "outputs": [],
   "source": [
    "list[0] = '0'"
   ]
  },
  {
   "cell_type": "code",
   "execution_count": 113,
   "id": "a88beeea",
   "metadata": {},
   "outputs": [],
   "source": [
    "list.append('0')"
   ]
  },
  {
   "cell_type": "code",
   "execution_count": 114,
   "id": "2ac7a991",
   "metadata": {},
   "outputs": [
    {
     "data": {
      "text/plain": [
       "['0', '0']"
      ]
     },
     "execution_count": 114,
     "metadata": {},
     "output_type": "execute_result"
    }
   ],
   "source": [
    "list"
   ]
  },
  {
   "cell_type": "code",
   "execution_count": 115,
   "id": "39ef8aa6",
   "metadata": {},
   "outputs": [],
   "source": [
    "list3 = [1,2,[3,4,'hello']]"
   ]
  },
  {
   "cell_type": "code",
   "execution_count": 126,
   "id": "3d7cda87",
   "metadata": {},
   "outputs": [
    {
     "name": "stdout",
     "output_type": "stream",
     "text": [
      "hello\n"
     ]
    }
   ],
   "source": [
    "print(list3[2][2])"
   ]
  },
  {
   "cell_type": "code",
   "execution_count": 127,
   "id": "1c74505c",
   "metadata": {},
   "outputs": [],
   "source": [
    "list4 = [5,3,4,6,1]"
   ]
  },
  {
   "cell_type": "code",
   "execution_count": 130,
   "id": "4072b224",
   "metadata": {},
   "outputs": [],
   "source": [
    "list4.sort()"
   ]
  },
  {
   "cell_type": "code",
   "execution_count": 131,
   "id": "e1b1b6f6",
   "metadata": {},
   "outputs": [
    {
     "name": "stdout",
     "output_type": "stream",
     "text": [
      "[1, 3, 4, 5, 6]\n"
     ]
    }
   ],
   "source": [
    "print(list4)"
   ]
  },
  {
   "cell_type": "code",
   "execution_count": 138,
   "id": "1fddbee5",
   "metadata": {},
   "outputs": [],
   "source": [
    "d = {\"k1\":[{'simple_key':['this is deep',['hello']]}]}"
   ]
  },
  {
   "cell_type": "code",
   "execution_count": 145,
   "id": "82c5b6c7",
   "metadata": {},
   "outputs": [
    {
     "data": {
      "text/plain": [
       "'hello'"
      ]
     },
     "execution_count": 145,
     "metadata": {},
     "output_type": "execute_result"
    }
   ],
   "source": [
    "d['k1'][0][\"simple_key\"][1][0]"
   ]
  },
  {
   "cell_type": "code",
   "execution_count": 9,
   "id": "dddc0301",
   "metadata": {},
   "outputs": [
    {
     "name": "stdout",
     "output_type": "stream",
     "text": [
      "my name is het shah\n"
     ]
    }
   ],
   "source": [
    "a = 'het '\n",
    "if a=='het' or a=='het ':\n",
    "    print('my name is het shah')\n",
    "else:\n",
    "    print('my friend')"
   ]
  },
  {
   "cell_type": "code",
   "execution_count": 5,
   "id": "439f9929",
   "metadata": {},
   "outputs": [
    {
     "name": "stdout",
     "output_type": "stream",
     "text": [
      "it's an odd no.\n"
     ]
    }
   ],
   "source": [
    "a = 12834101\n",
    "if a % 2 == 0:\n",
    "    print(\"it's an even no.\")\n",
    "else :\n",
    "    print(\"it's an odd no.\")"
   ]
  },
  {
   "cell_type": "code",
   "execution_count": 10,
   "id": "8643e9a0",
   "metadata": {},
   "outputs": [
    {
     "data": {
      "text/plain": [
       "list"
      ]
     },
     "execution_count": 10,
     "metadata": {},
     "output_type": "execute_result"
    }
   ],
   "source": [
    "my_list = [1,2,3,4,5,6,7,8,9,10]"
   ]
  },
  {
   "cell_type": "code",
   "execution_count": 7,
   "id": "693c8d4c",
   "metadata": {},
   "outputs": [
    {
     "name": "stdout",
     "output_type": "stream",
     "text": [
      "1\n",
      "2\n",
      "3\n",
      "4\n",
      "5\n",
      "6\n",
      "7\n",
      "8\n",
      "9\n",
      "10\n"
     ]
    }
   ],
   "source": [
    "for num in my_list:\n",
    "    print(num)"
   ]
  },
  {
   "cell_type": "code",
   "execution_count": 14,
   "id": "a4d9b481",
   "metadata": {},
   "outputs": [
    {
     "name": "stdout",
     "output_type": "stream",
     "text": [
      "number: 1\n",
      "2\n",
      "number: 3\n",
      "4\n",
      "number: 5\n",
      "6\n",
      "number: 7\n",
      "8\n",
      "number: 9\n",
      "10\n"
     ]
    }
   ],
   "source": [
    "for num in my_list:\n",
    "    # check for even\n",
    "    if(num%2 == 0):\n",
    "        print(num)\n",
    "    else:\n",
    "        print(f'number: {num}')\n",
    "  "
   ]
  },
  {
   "cell_type": "code",
   "execution_count": 19,
   "id": "a7e33c02",
   "metadata": {},
   "outputs": [
    {
     "name": "stdout",
     "output_type": "stream",
     "text": [
      "2\n",
      "3\n",
      "3\n",
      "4\n",
      "4\n",
      "5\n",
      "5\n",
      "6\n"
     ]
    }
   ],
   "source": [
    "my_list = [(2,3) , (3,4) , (4,5),(5,6)]\n",
    "\n",
    "for l in my_list:\n",
    "    print(l[0] )\n",
    "    print(l[1])\n",
    "    "
   ]
  },
  {
   "cell_type": "code",
   "execution_count": 22,
   "id": "0428005b",
   "metadata": {},
   "outputs": [],
   "source": [
    "my_list = [(2,3) , (3,4) , (4,5),(5,6)]"
   ]
  },
  {
   "cell_type": "code",
   "execution_count": 23,
   "id": "caa3ad34",
   "metadata": {},
   "outputs": [
    {
     "name": "stdout",
     "output_type": "stream",
     "text": [
      "3\n",
      "4\n",
      "5\n",
      "6\n"
     ]
    }
   ],
   "source": [
    "for a,b in my_list:\n",
    "        print(b)"
   ]
  },
  {
   "cell_type": "code",
   "execution_count": 31,
   "id": "0bf97afa",
   "metadata": {},
   "outputs": [
    {
     "name": "stdout",
     "output_type": "stream",
     "text": [
      "het\n",
      "aryan\n",
      "kalp\n"
     ]
    }
   ],
   "source": [
    "d = {\"ki\":'het' , \"k2\":\"aryan\",\"k3\":\"kalp\"}\n",
    "for h in d.values():\n",
    "    print(h)"
   ]
  },
  {
   "cell_type": "code",
   "execution_count": 4,
   "id": "2a458c4c",
   "metadata": {},
   "outputs": [
    {
     "name": "stdout",
     "output_type": "stream",
     "text": [
      "het\n",
      "shlok\n",
      "kalp\n"
     ]
    }
   ],
   "source": [
    "my_list = ['het' , 'preet' , 'shlok' , 'aryan' , 'kalp']\n",
    "\n",
    "for n in range(0,5,2):\n",
    "    print(my_list[n])"
   ]
  },
  {
   "cell_type": "code",
   "execution_count": 5,
   "id": "0871febf",
   "metadata": {},
   "outputs": [
    {
     "data": {
      "text/plain": [
       "[0, 2, 4, 6, 8, 10]"
      ]
     },
     "execution_count": 5,
     "metadata": {},
     "output_type": "execute_result"
    }
   ],
   "source": [
    "list(range(0,11,2))"
   ]
  },
  {
   "cell_type": "code",
   "execution_count": 7,
   "id": "7712ebd6",
   "metadata": {},
   "outputs": [
    {
     "name": "stdout",
     "output_type": "stream",
     "text": [
      "the index count 0 for letter h \n",
      "the index count 1 for letter e \n",
      "the index count 2 for letter t \n"
     ]
    }
   ],
   "source": [
    "index_count = 0\n",
    "\n",
    "for letters in 'het':\n",
    "    print('the index count {} for letter {} ' .format(index_count , letters))\n",
    "    index_count += 1"
   ]
  },
  {
   "cell_type": "code",
   "execution_count": 17,
   "id": "8849a1ec",
   "metadata": {},
   "outputs": [
    {
     "name": "stdout",
     "output_type": "stream",
     "text": [
      "0 h\n",
      "1 e\n",
      "2 t\n",
      "3  \n",
      "4 s\n",
      "5 h\n",
      "6 a\n",
      "7 h\n",
      "8  \n",
      "9 h\n",
      "10 i\n",
      "11 t\n",
      "12 e\n",
      "13 s\n",
      "14 h\n",
      "15 b\n",
      "16 h\n",
      "17 a\n",
      "18 i\n"
     ]
    }
   ],
   "source": [
    "a= 'het shah hiteshbhai'\n",
    "for index , letters in enumerate(a):\n",
    "    print(index  , letters)"
   ]
  },
  {
   "cell_type": "code",
   "execution_count": 22,
   "id": "a64dd26a",
   "metadata": {},
   "outputs": [
    {
     "name": "stdout",
     "output_type": "stream",
     "text": [
      "(1, 'a')\n",
      "(2, 'b')\n",
      "(3, 'c')\n",
      "(5, 'd')\n"
     ]
    }
   ],
   "source": [
    "list = [1,2,3,5]\n",
    "list1 = ['a','b','c' , 'd']\n",
    "\n",
    "for items in zip(list , list1):\n",
    "    print(items)"
   ]
  },
  {
   "cell_type": "code",
   "execution_count": 24,
   "id": "eb120c09",
   "metadata": {},
   "outputs": [
    {
     "ename": "TypeError",
     "evalue": "'list' object is not callable",
     "output_type": "error",
     "traceback": [
      "\u001b[1;31m---------------------------------------------------------------------------\u001b[0m",
      "\u001b[1;31mTypeError\u001b[0m                                 Traceback (most recent call last)",
      "\u001b[1;32m~\\AppData\\Local\\Temp\\ipykernel_13784\\2540070654.py\u001b[0m in \u001b[0;36m<module>\u001b[1;34m\u001b[0m\n\u001b[1;32m----> 1\u001b[1;33m \u001b[0mlist\u001b[0m\u001b[1;33m(\u001b[0m\u001b[0mzip\u001b[0m\u001b[1;33m(\u001b[0m\u001b[0mlist\u001b[0m\u001b[1;33m,\u001b[0m\u001b[0mlist1\u001b[0m\u001b[1;33m)\u001b[0m\u001b[1;33m)\u001b[0m\u001b[1;33m\u001b[0m\u001b[1;33m\u001b[0m\u001b[0m\n\u001b[0m",
      "\u001b[1;31mTypeError\u001b[0m: 'list' object is not callable"
     ]
    }
   ],
   "source": [
    "list(zip(list,list1))"
   ]
  },
  {
   "cell_type": "code",
   "execution_count": 26,
   "id": "44a2baca",
   "metadata": {},
   "outputs": [
    {
     "data": {
      "text/plain": [
       "False"
      ]
     },
     "execution_count": 26,
     "metadata": {},
     "output_type": "execute_result"
    }
   ],
   "source": [
    "'x' in [1 ,2, 3]"
   ]
  },
  {
   "cell_type": "code",
   "execution_count": 27,
   "id": "47d9138b",
   "metadata": {},
   "outputs": [],
   "source": [
    "my_list = [10,20,30,40,50]"
   ]
  },
  {
   "cell_type": "code",
   "execution_count": 28,
   "id": "83624890",
   "metadata": {},
   "outputs": [
    {
     "data": {
      "text/plain": [
       "10"
      ]
     },
     "execution_count": 28,
     "metadata": {},
     "output_type": "execute_result"
    }
   ],
   "source": [
    "min(my_list)"
   ]
  },
  {
   "cell_type": "code",
   "execution_count": 29,
   "id": "fee582b1",
   "metadata": {},
   "outputs": [
    {
     "data": {
      "text/plain": [
       "50"
      ]
     },
     "execution_count": 29,
     "metadata": {},
     "output_type": "execute_result"
    }
   ],
   "source": [
    "max(my_list)"
   ]
  },
  {
   "cell_type": "code",
   "execution_count": 35,
   "id": "57b15781",
   "metadata": {},
   "outputs": [],
   "source": [
    "from random import shuffle"
   ]
  },
  {
   "cell_type": "code",
   "execution_count": 38,
   "id": "da129d6d",
   "metadata": {},
   "outputs": [],
   "source": [
    "mylist = [1,2,3,4,5,6,7,8,9,10]"
   ]
  },
  {
   "cell_type": "code",
   "execution_count": 43,
   "id": "858447ab",
   "metadata": {},
   "outputs": [],
   "source": [
    "shuffle(mylist)"
   ]
  },
  {
   "cell_type": "code",
   "execution_count": 44,
   "id": "095bdb31",
   "metadata": {},
   "outputs": [
    {
     "data": {
      "text/plain": [
       "[9, 4, 7, 8, 10, 1, 2, 5, 3, 6]"
      ]
     },
     "execution_count": 44,
     "metadata": {},
     "output_type": "execute_result"
    }
   ],
   "source": [
    "mylist"
   ]
  },
  {
   "cell_type": "code",
   "execution_count": 8,
   "id": "8c0d7942",
   "metadata": {},
   "outputs": [],
   "source": [
    "from random import randint"
   ]
  },
  {
   "cell_type": "code",
   "execution_count": null,
   "id": "dc08ee51",
   "metadata": {},
   "outputs": [],
   "source": []
  },
  {
   "cell_type": "raw",
   "id": "31ef5fe8",
   "metadata": {},
   "source": []
  },
  {
   "cell_type": "code",
   "execution_count": 9,
   "id": "a4623ac9",
   "metadata": {},
   "outputs": [],
   "source": [
    "mynum = randint(0,20)"
   ]
  },
  {
   "cell_type": "code",
   "execution_count": 10,
   "id": "9308d365",
   "metadata": {},
   "outputs": [
    {
     "data": {
      "text/plain": [
       "12"
      ]
     },
     "execution_count": 10,
     "metadata": {},
     "output_type": "execute_result"
    }
   ],
   "source": [
    "mynum"
   ]
  },
  {
   "cell_type": "code",
   "execution_count": 12,
   "id": "f1377bab",
   "metadata": {},
   "outputs": [
    {
     "name": "stdout",
     "output_type": "stream",
     "text": [
      "enter a number2\n",
      "the number is 2\n"
     ]
    }
   ],
   "source": [
    "het = input('enter a number')\n",
    "print('the number is {}' .format(het))"
   ]
  },
  {
   "cell_type": "code",
   "execution_count": 13,
   "id": "28286f5b",
   "metadata": {},
   "outputs": [
    {
     "data": {
      "text/plain": [
       "str"
      ]
     },
     "execution_count": 13,
     "metadata": {},
     "output_type": "execute_result"
    }
   ],
   "source": [
    "type(het)"
   ]
  },
  {
   "cell_type": "code",
   "execution_count": 16,
   "id": "82ce3af3",
   "metadata": {},
   "outputs": [],
   "source": [
    "het = int(het)"
   ]
  },
  {
   "cell_type": "code",
   "execution_count": 17,
   "id": "704feb10",
   "metadata": {},
   "outputs": [
    {
     "data": {
      "text/plain": [
       "int"
      ]
     },
     "execution_count": 17,
     "metadata": {},
     "output_type": "execute_result"
    }
   ],
   "source": [
    "type(het)"
   ]
  },
  {
   "cell_type": "code",
   "execution_count": 1,
   "id": "a16af8ad",
   "metadata": {},
   "outputs": [
    {
     "name": "stdout",
     "output_type": "stream",
     "text": [
      "0\n",
      "1\n",
      "2\n",
      "3\n",
      "4\n",
      "5\n",
      "6\n",
      "7\n",
      "8\n",
      "9\n"
     ]
    }
   ],
   "source": [
    "for num in range(10):\n",
    "    print(num)"
   ]
  },
  {
   "cell_type": "code",
   "execution_count": 3,
   "id": "b11c4f21",
   "metadata": {},
   "outputs": [
    {
     "name": "stdout",
     "output_type": "stream",
     "text": [
      "1\n",
      "3\n",
      "5\n",
      "7\n",
      "9\n"
     ]
    }
   ],
   "source": [
    "for num in range(1,10,2):\n",
    "    print(num)"
   ]
  },
  {
   "cell_type": "code",
   "execution_count": 4,
   "id": "8f0feeae",
   "metadata": {},
   "outputs": [
    {
     "data": {
      "text/plain": [
       "[0, 3]"
      ]
     },
     "execution_count": 4,
     "metadata": {},
     "output_type": "execute_result"
    }
   ],
   "source": [
    "list(range(0,5,3))"
   ]
  },
  {
   "cell_type": "code",
   "execution_count": 6,
   "id": "e4290c67",
   "metadata": {},
   "outputs": [
    {
     "name": "stdout",
     "output_type": "stream",
     "text": [
      "in index 0 the letter is a\n",
      "in index 1 the letter is b\n",
      "in index 2 the letter is c\n",
      "in index 3 the letter is d\n",
      "in index 4 the letter is e\n"
     ]
    }
   ],
   "source": [
    "index_count = 0\n",
    "for letter in 'abcde':\n",
    "    print('in index {} the letter is {}' .format(index_count , letter))\n",
    "    index_count += 1"
   ]
  },
  {
   "cell_type": "code",
   "execution_count": 7,
   "id": "78ab4558",
   "metadata": {},
   "outputs": [
    {
     "name": "stdout",
     "output_type": "stream",
     "text": [
      "0 h\n",
      "1 e\n",
      "2 t\n"
     ]
    }
   ],
   "source": [
    "word = 'het'\n",
    "\n",
    "for index , items in enumerate(word):\n",
    "    print(index , items)"
   ]
  },
  {
   "cell_type": "code",
   "execution_count": 9,
   "id": "2d6d5dd7",
   "metadata": {},
   "outputs": [
    {
     "name": "stdout",
     "output_type": "stream",
     "text": [
      "(1, 'a')\n",
      "(2, 'b')\n",
      "(3, 'c')\n"
     ]
    }
   ],
   "source": [
    "mylist = [1,2,3,4,5]\n",
    "mylist1 = ['a','b','c']\n",
    "\n",
    "for items in zip(mylist ,mylist1):\n",
    "    print(items)"
   ]
  },
  {
   "cell_type": "code",
   "execution_count": 12,
   "id": "c4df55e8",
   "metadata": {},
   "outputs": [
    {
     "data": {
      "text/plain": [
       "True"
      ]
     },
     "execution_count": 12,
     "metadata": {},
     "output_type": "execute_result"
    }
   ],
   "source": [
    "'x' in  ['a','x']"
   ]
  },
  {
   "cell_type": "code",
   "execution_count": 13,
   "id": "27e22819",
   "metadata": {},
   "outputs": [
    {
     "data": {
      "text/plain": [
       "True"
      ]
     },
     "execution_count": 13,
     "metadata": {},
     "output_type": "execute_result"
    }
   ],
   "source": [
    "'k' in {'k':123}"
   ]
  },
  {
   "cell_type": "code",
   "execution_count": 14,
   "id": "5b577087",
   "metadata": {},
   "outputs": [],
   "source": [
    "from random import shuffle"
   ]
  },
  {
   "cell_type": "code",
   "execution_count": 15,
   "id": "845dc60a",
   "metadata": {},
   "outputs": [],
   "source": [
    "mylist = [1,2,3,4,5,6,7,8,9]"
   ]
  },
  {
   "cell_type": "code",
   "execution_count": 16,
   "id": "bf408733",
   "metadata": {},
   "outputs": [],
   "source": [
    "shuffle(mylist)"
   ]
  },
  {
   "cell_type": "code",
   "execution_count": 17,
   "id": "b759b633",
   "metadata": {},
   "outputs": [
    {
     "name": "stdout",
     "output_type": "stream",
     "text": [
      "[6, 2, 9, 4, 3, 5, 7, 8, 1]\n"
     ]
    }
   ],
   "source": [
    "print(mylist)"
   ]
  },
  {
   "cell_type": "code",
   "execution_count": 18,
   "id": "5399c1fb",
   "metadata": {},
   "outputs": [],
   "source": [
    "from random import randint"
   ]
  },
  {
   "cell_type": "code",
   "execution_count": 19,
   "id": "274b4f0c",
   "metadata": {},
   "outputs": [
    {
     "data": {
      "text/plain": [
       "1"
      ]
     },
     "execution_count": 19,
     "metadata": {},
     "output_type": "execute_result"
    }
   ],
   "source": [
    "randint(0,2)"
   ]
  },
  {
   "cell_type": "code",
   "execution_count": 20,
   "id": "4dd0a14f",
   "metadata": {},
   "outputs": [
    {
     "name": "stdout",
     "output_type": "stream",
     "text": [
      "enter your namehet\n"
     ]
    },
    {
     "data": {
      "text/plain": [
       "'het'"
      ]
     },
     "execution_count": 20,
     "metadata": {},
     "output_type": "execute_result"
    }
   ],
   "source": [
    "input('enter your name')"
   ]
  },
  {
   "cell_type": "code",
   "execution_count": 21,
   "id": "7424e1cc",
   "metadata": {},
   "outputs": [],
   "source": [
    "mystring = 'hello'"
   ]
  },
  {
   "cell_type": "code",
   "execution_count": 23,
   "id": "de1471aa",
   "metadata": {},
   "outputs": [],
   "source": [
    "listing = [letter for letter in mystring]"
   ]
  },
  {
   "cell_type": "code",
   "execution_count": 24,
   "id": "bcb15020",
   "metadata": {},
   "outputs": [
    {
     "name": "stdout",
     "output_type": "stream",
     "text": [
      "['h', 'e', 'l', 'l', 'o']\n"
     ]
    }
   ],
   "source": [
    "print(listing)"
   ]
  },
  {
   "cell_type": "code",
   "execution_count": null,
   "id": "9d2dce42",
   "metadata": {},
   "outputs": [],
   "source": []
  }
 ],
 "metadata": {
  "kernelspec": {
   "display_name": "Python 3 (ipykernel)",
   "language": "python",
   "name": "python3"
  },
  "language_info": {
   "codemirror_mode": {
    "name": "ipython",
    "version": 3
   },
   "file_extension": ".py",
   "mimetype": "text/x-python",
   "name": "python",
   "nbconvert_exporter": "python",
   "pygments_lexer": "ipython3",
   "version": "3.9.13"
  }
 },
 "nbformat": 4,
 "nbformat_minor": 5
}
