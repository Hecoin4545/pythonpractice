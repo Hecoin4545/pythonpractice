{
 "cells": [
  {
   "cell_type": "code",
   "execution_count": 52,
   "id": "704d4930",
   "metadata": {},
   "outputs": [
    {
     "name": "stdout",
     "output_type": "stream",
     "text": [
      " |0| \n",
      "-----\n",
      " | | \n",
      "-----\n",
      " | | \n"
     ]
    }
   ],
   "source": [
    "# print(\"Welcome To Het's Tic-Tak-Toe Game\")\n",
    "# User_1 = input(\"Enter First User: \")\n",
    "# User_2 = input(\"Enter Second User: \")\n",
    "\n",
    "def repeated_func():\n",
    "te = \" |~|?\\n-----\\n@|#|$\\n-----\\n^|!|`\"\n",
    "\n",
    "ge = te.replace('~' , \"0\")\n",
    "print(ge)\n",
    "\n",
    "\n",
    "#     type_1 = input(\"{} , Your Chance\" .format(User_2))\n",
    "    \n",
    "    \n",
    "# while i <= 9:\n",
    "#     if i % 2 == 0:\n",
    "#     else:\n",
    "#     type_2 = input(\"{} , Your Chance\" .format(User_1))\n",
    "#     i += 1\n",
    "\n"
   ]
  },
  {
   "cell_type": "code",
   "execution_count": 30,
   "id": "6178b9c7",
   "metadata": {},
   "outputs": [
    {
     "name": "stdout",
     "output_type": "stream",
     "text": [
      "e\n"
     ]
    }
   ],
   "source": [
    "he = 'het'\n",
    "\n",
    "print(he[1])"
   ]
  },
  {
   "cell_type": "code",
   "execution_count": null,
   "id": "d68e476b",
   "metadata": {},
   "outputs": [],
   "source": []
  }
 ],
 "metadata": {
  "kernelspec": {
   "display_name": "Python 3 (ipykernel)",
   "language": "python",
   "name": "python3"
  },
  "language_info": {
   "codemirror_mode": {
    "name": "ipython",
    "version": 3
   },
   "file_extension": ".py",
   "mimetype": "text/x-python",
   "name": "python",
   "nbconvert_exporter": "python",
   "pygments_lexer": "ipython3",
   "version": "3.9.13"
  }
 },
 "nbformat": 4,
 "nbformat_minor": 5
}
