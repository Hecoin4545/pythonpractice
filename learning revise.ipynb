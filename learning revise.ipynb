{
 "cells": [
  {
   "cell_type": "code",
   "execution_count": 54,
   "id": "876f00bd",
   "metadata": {},
   "outputs": [],
   "source": [
    "#Intro about Strings\n",
    "a = 'het Het'"
   ]
  },
  {
   "cell_type": "code",
   "execution_count": 55,
   "id": "0eb19a39",
   "metadata": {},
   "outputs": [
    {
     "name": "stdout",
     "output_type": "stream",
     "text": [
      "het Het\n"
     ]
    }
   ],
   "source": [
    "print(a)"
   ]
  },
  {
   "cell_type": "code",
   "execution_count": 56,
   "id": "28e5500b",
   "metadata": {},
   "outputs": [
    {
     "name": "stdout",
     "output_type": "stream",
     "text": [
      "h\n"
     ]
    }
   ],
   "source": [
    "print(a[0])"
   ]
  },
  {
   "cell_type": "code",
   "execution_count": 57,
   "id": "4ce8c095",
   "metadata": {},
   "outputs": [
    {
     "name": "stdout",
     "output_type": "stream",
     "text": [
      "true\n"
     ]
    }
   ],
   "source": [
    "b = a.find('het')\n",
    "if b == -1:\n",
    "    print('false')\n",
    "else:\n",
    "    print('true')"
   ]
  },
  {
   "cell_type": "code",
   "execution_count": 58,
   "id": "67ea26d0",
   "metadata": {},
   "outputs": [],
   "source": [
    "a = a.replace('het' , 'Het')"
   ]
  },
  {
   "cell_type": "code",
   "execution_count": 59,
   "id": "48c04228",
   "metadata": {},
   "outputs": [
    {
     "data": {
      "text/plain": [
       "'Het Het'"
      ]
     },
     "execution_count": 59,
     "metadata": {},
     "output_type": "execute_result"
    }
   ],
   "source": [
    "a"
   ]
  },
  {
   "cell_type": "code",
   "execution_count": 60,
   "id": "afabe015",
   "metadata": {},
   "outputs": [
    {
     "data": {
      "text/plain": [
       "['Het', 'Het']"
      ]
     },
     "execution_count": 60,
     "metadata": {},
     "output_type": "execute_result"
    }
   ],
   "source": [
    "a.split(\" \")"
   ]
  },
  {
   "cell_type": "code",
   "execution_count": 61,
   "id": "c463a0e8",
   "metadata": {},
   "outputs": [
    {
     "data": {
      "text/plain": [
       "'hET hET'"
      ]
     },
     "execution_count": 61,
     "metadata": {},
     "output_type": "execute_result"
    }
   ],
   "source": [
    "a.swapcase()"
   ]
  },
  {
   "cell_type": "code",
   "execution_count": 63,
   "id": "ace8347c",
   "metadata": {},
   "outputs": [
    {
     "data": {
      "text/plain": [
       "str"
      ]
     },
     "execution_count": 63,
     "metadata": {},
     "output_type": "execute_result"
    }
   ],
   "source": [
    "type(a)"
   ]
  },
  {
   "cell_type": "code",
   "execution_count": 64,
   "id": "4ee76129",
   "metadata": {},
   "outputs": [],
   "source": [
    "#Introduction to list "
   ]
  },
  {
   "cell_type": "code",
   "execution_count": 78,
   "id": "16fcba82",
   "metadata": {},
   "outputs": [
    {
     "data": {
      "text/plain": [
       "list"
      ]
     },
     "execution_count": 78,
     "metadata": {},
     "output_type": "execute_result"
    }
   ],
   "source": [
    "a = [1,2,3,4,6,7,8]\n",
    "type(a)"
   ]
  },
  {
   "cell_type": "code",
   "execution_count": 95,
   "id": "699c56e0",
   "metadata": {},
   "outputs": [],
   "source": [
    "#introduction to dictionary"
   ]
  },
  {
   "cell_type": "code",
   "execution_count": 105,
   "id": "cb82a4ad",
   "metadata": {},
   "outputs": [],
   "source": [
    "a = {\"id\":'0' , \"name\":\"het shah\"}"
   ]
  },
  {
   "cell_type": "code",
   "execution_count": 114,
   "id": "00551038",
   "metadata": {},
   "outputs": [
    {
     "name": "stdout",
     "output_type": "stream",
     "text": [
      "dict_values(['0', 'het shah'])\n"
     ]
    }
   ],
   "source": [
    "print(a.values())"
   ]
  },
  {
   "cell_type": "code",
   "execution_count": 115,
   "id": "c36d99fb",
   "metadata": {},
   "outputs": [],
   "source": [
    "#introducation to for loops"
   ]
  },
  {
   "cell_type": "code",
   "execution_count": 14,
   "id": "09c551ee",
   "metadata": {},
   "outputs": [],
   "source": [
    "arr = [1, 54, 2345 , 23]"
   ]
  },
  {
   "cell_type": "code",
   "execution_count": 17,
   "id": "9fe13a1a",
   "metadata": {},
   "outputs": [
    {
     "name": "stdout",
     "output_type": "stream",
     "text": [
      "[1, 23, 54, 2345]\n"
     ]
    }
   ],
   "source": [
    "arr.sort()\n",
    "print(arr)"
   ]
  },
  {
   "cell_type": "code",
   "execution_count": null,
   "id": "4593ffe3",
   "metadata": {},
   "outputs": [],
   "source": []
  }
 ],
 "metadata": {
  "kernelspec": {
   "display_name": "Python 3 (ipykernel)",
   "language": "python",
   "name": "python3"
  },
  "language_info": {
   "codemirror_mode": {
    "name": "ipython",
    "version": 3
   },
   "file_extension": ".py",
   "mimetype": "text/x-python",
   "name": "python",
   "nbconvert_exporter": "python",
   "pygments_lexer": "ipython3",
   "version": "3.9.13"
  }
 },
 "nbformat": 4,
 "nbformat_minor": 5
}
