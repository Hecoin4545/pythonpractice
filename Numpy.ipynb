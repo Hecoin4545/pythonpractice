{
 "cells": [
  {
   "cell_type": "code",
   "execution_count": 2,
   "id": "86776b5d",
   "metadata": {},
   "outputs": [],
   "source": [
    "# Numpy has only one dimensional array and they are homogenous and can only contain numbers , float and complex and has fixed items \n",
    "# Their are 6 different methods in which we can create numpy \n",
    "# 1 np.array() 1-D and 2-D\n",
    "# 2 np.zeros/ones/empty/random()\n",
    "# 3 np.arange()\n",
    "# 4 np.linspace()\n",
    "# 5 Copy()\n",
    "# 6 Identity()\n",
    "\n",
    "\n",
    "# How To Create N-d Arrays \n",
    "import numpy as np "
   ]
  },
  {
   "cell_type": "code",
   "execution_count": 3,
   "id": "b35283fc",
   "metadata": {},
   "outputs": [],
   "source": [
    "# How to Create an array in numpy \n",
    "\n",
    "# This Below Is 1 Dimensional N-D array \n",
    "arr1 = np.array([1,2,3,4,5])\n",
    "# print(type(arr1) ,arr1)\n",
    "\n",
    "# This Below Is 2 Dimensional N-D Array \n",
    "arr2 = np.array([[1,2,3] , [4,5,6]])\n",
    "# type(arr2)\n",
    "# arr2\n",
    "\n",
    "# This is A Method To Inizialize the array in a faster way\n",
    "# # The First element is the dimension and the 2 property is the amt of element that we want i a single dimension (create zeros to all the element)\n",
    "arr3 = np.zeros((3,3))\n",
    "# arr3\n",
    "\n",
    "# The First element is the dimension and the 2 property is the amt of element that we want i a single dimension (create Ones to all the element)\n",
    "arr4 = np.ones((3,3))\n",
    "# arr4\n",
    "\n",
    "# np.Identity is used to create a matrix in which diagonally all the elements are 1 and rest are 0 \n",
    "arr5 = np.identity((5))\n",
    "# arr5\n",
    "\n",
    "# np.arange is used to create a matrix in which it will create all the elements between that range \n",
    "arr6 = np.arange(10)\n",
    "# arr6\n",
    "\n",
    "# np.linspace is used to create a matrix in which the are 3 properties where 1 is the (ye google pe dhekna hai )\n",
    "\n",
    "# np.copy is used to copy any array \n",
    "# arr8 = arr6.copy\n",
    "\n"
   ]
  },
  {
   "cell_type": "code",
   "execution_count": 4,
   "id": "a7af961f",
   "metadata": {},
   "outputs": [],
   "source": [
    "# Numpy properties and methods \n",
    "# arr1.shape ans:5\n",
    "# arr2.shape ans:(2,3)\n",
    "\n",
    "# arr9 = np.array([[[1,2],[3,4]],[[5,6],[7,8]]])\n",
    "# arr9.shape\n",
    "\n",
    "# This is Used to Tell the dimension of the matrix \n",
    "# arr9.ndim "
   ]
  },
  {
   "cell_type": "code",
   "execution_count": 8,
   "id": "dd0b4586",
   "metadata": {},
   "outputs": [
    {
     "data": {
      "text/plain": [
       "array([0., 1., 2., 3., 4., 5., 6., 7., 8., 9.])"
      ]
     },
     "execution_count": 8,
     "metadata": {},
     "output_type": "execute_result"
    }
   ],
   "source": [
    "# arr.size is used to claculate the number of elements in an nd array \n",
    "# arr3.size\n",
    "\n",
    "# arr3.itemsize (google it )\n",
    "\n",
    "# dtype is used to check the bit of the nd array \n",
    "# arr6.dtype\n",
    "\n",
    "# arr.astype is used to convert the nd array into another datatype \n",
    "arr6.astype('float')"
   ]
  },
  {
   "cell_type": "code",
   "execution_count": 10,
   "id": "73d2eae5",
   "metadata": {},
   "outputs": [],
   "source": [
    "# Numpy arrays are much more faster , convienent , and occupies less memory than list \n",
    "# import numpy as np \n",
    "# lista = range(100)\n",
    "# arr11 = np.arange(100)"
   ]
  },
  {
   "cell_type": "code",
   "execution_count": 12,
   "id": "02729d4d",
   "metadata": {},
   "outputs": [],
   "source": [
    "# import sys"
   ]
  },
  {
   "cell_type": "code",
   "execution_count": 20,
   "id": "e6c8e571",
   "metadata": {},
   "outputs": [],
   "source": [
    "# This is used to check the memory in a certain element \n",
    "# print(sys.getsizeof(87)*len(lista))\n",
    "\n",
    "# This is used to check the memory in a certain element \n",
    "# print(arr11.itemsize*arr11.size)\n",
    "import time\n"
   ]
  },
  {
   "cell_type": "code",
   "execution_count": 22,
   "id": "66c5bd5e",
   "metadata": {},
   "outputs": [
    {
     "name": "stdout",
     "output_type": "stream",
     "text": [
      "0.013997793197631836\n"
     ]
    }
   ],
   "source": [
    "x = range(100000)\n",
    "y = range(100000,200000)\n",
    "\n",
    "# This is used to start the timing\n",
    "start_time = time.time()\n",
    "\n",
    "c = [x+y for x,y in zip(x,y)]\n",
    "\n",
    "print(time.time() - start_time)"
   ]
  },
  {
   "cell_type": "code",
   "execution_count": 27,
   "id": "db91640a",
   "metadata": {},
   "outputs": [
    {
     "name": "stdout",
     "output_type": "stream",
     "text": [
      "0.010002374649047852\n"
     ]
    }
   ],
   "source": [
    "# a = np.arange(1000000)\n",
    "# b = np.arange(1000000,2000000)\n",
    "\n",
    "# # This is used to start the timing\n",
    "# start_time = time.time()\n",
    "\n",
    "# c = a+b\n",
    "\n",
    "# print(time.time() - start_time)"
   ]
  },
  {
   "cell_type": "code",
   "execution_count": 43,
   "id": "9cf13313",
   "metadata": {},
   "outputs": [
    {
     "data": {
      "text/plain": [
       "array([[ 0,  1,  2,  3],\n",
       "       [ 4,  5,  6,  7],\n",
       "       [ 8,  9, 10, 11],\n",
       "       [12, 13, 14, 15],\n",
       "       [16, 17, 18, 19],\n",
       "       [20, 21, 22, 23]])"
      ]
     },
     "execution_count": 43,
     "metadata": {},
     "output_type": "execute_result"
    }
   ],
   "source": [
    "# The Reshape method is used to reshape the array in this  it will create 2 array and in a single array their will be 12 elements \n",
    "arr12 = np.arange(24).reshape(6,4)\n",
    "arr12\n",
    "# ek item nikalna is indexing and multiple nikana is slicing "
   ]
  },
  {
   "cell_type": "code",
   "execution_count": 52,
   "id": "de82bf10",
   "metadata": {},
   "outputs": [
    {
     "data": {
      "text/plain": [
       "array([[ 9, 10],\n",
       "       [13, 14]])"
      ]
     },
     "execution_count": 52,
     "metadata": {},
     "output_type": "execute_result"
    }
   ],
   "source": [
    "# Iska matlab hai sare rows print karne hai and , ke bad mai jo 2 hai vo batata hai ki har ek 1d array mai 3 element nikalna hai \n",
    "# arr12[2:4,1:3]\n"
   ]
  },
  {
   "cell_type": "code",
   "execution_count": 55,
   "id": "c80ce024",
   "metadata": {},
   "outputs": [
    {
     "name": "stdout",
     "output_type": "stream",
     "text": [
      "[0 1 2 3]\n",
      "[4 5 6 7]\n",
      "[ 8  9 10 11]\n",
      "[12 13 14 15]\n",
      "[16 17 18 19]\n",
      "[20 21 22 23]\n",
      "0\n",
      "1\n",
      "2\n",
      "3\n",
      "4\n",
      "5\n",
      "6\n",
      "7\n",
      "8\n",
      "9\n",
      "10\n",
      "11\n",
      "12\n",
      "13\n",
      "14\n",
      "15\n",
      "16\n",
      "17\n",
      "18\n",
      "19\n",
      "20\n",
      "21\n",
      "22\n",
      "23\n"
     ]
    }
   ],
   "source": [
    "# interation in numpy\n",
    "\n",
    "# This will give you all the array that is in the numpy \n",
    "# for i in arr12:\n",
    "#     print(i)\n",
    "    \n",
    "# But if you want all the element that is in the numpy array than we have to do this \n",
    "# for i in np.nditer(arr12):\n",
    "#     print(i)"
   ]
  },
  {
   "cell_type": "code",
   "execution_count": null,
   "id": "6eaf90ce",
   "metadata": {},
   "outputs": [],
   "source": [
    "\n"
   ]
  }
 ],
 "metadata": {
  "kernelspec": {
   "display_name": "Python 3 (ipykernel)",
   "language": "python",
   "name": "python3"
  },
  "language_info": {
   "codemirror_mode": {
    "name": "ipython",
    "version": 3
   },
   "file_extension": ".py",
   "mimetype": "text/x-python",
   "name": "python",
   "nbconvert_exporter": "python",
   "pygments_lexer": "ipython3",
   "version": "3.9.13"
  }
 },
 "nbformat": 4,
 "nbformat_minor": 5
}
