{
 "cells": [
  {
   "cell_type": "code",
   "execution_count": 3,
   "id": "63e0c81e",
   "metadata": {},
   "outputs": [
    {
     "name": "stdout",
     "output_type": "stream",
     "text": [
      "2\n",
      "1\n"
     ]
    }
   ],
   "source": [
    "n = 2\n"
   ]
  },
  {
   "cell_type": "code",
   "execution_count": 13,
   "id": "170cbe53",
   "metadata": {},
   "outputs": [],
   "source": [
    "li.sort()"
   ]
  },
  {
   "cell_type": "code",
   "execution_count": 14,
   "id": "17b480ad",
   "metadata": {},
   "outputs": [
    {
     "name": "stdout",
     "output_type": "stream",
     "text": [
      "[1, 2]\n"
     ]
    }
   ],
   "source": [
    "print(li)"
   ]
  },
  {
   "cell_type": "code",
   "execution_count": 45,
   "id": "20b9edc9",
   "metadata": {},
   "outputs": [
    {
     "name": "stdout",
     "output_type": "stream",
     "text": [
      "1\n",
      "12\n"
     ]
    }
   ],
   "source": [
    "h = 0\n",
    "de =''\n",
    "while len(li) > h:\n",
    "    de = de + str(li[h])\n",
    "    h += 1\n",
    "    print(de)\n",
    "    "
   ]
  },
  {
   "cell_type": "code",
   "execution_count": 47,
   "id": "de3ad636",
   "metadata": {},
   "outputs": [
    {
     "data": {
      "text/plain": [
       "12"
      ]
     },
     "execution_count": 47,
     "metadata": {},
     "output_type": "execute_result"
    }
   ],
   "source": [
    "int(de)"
   ]
  },
  {
   "cell_type": "code",
   "execution_count": 61,
   "id": "6dccb91a",
   "metadata": {},
   "outputs": [
    {
     "name": "stdout",
     "output_type": "stream",
     "text": [
      "5\n"
     ]
    }
   ],
   "source": [
    "    n = 3\n",
    "    arr = '4156'\n",
    "    sr = list(arr)\n",
    "    fe = sr.sort()\n",
    "    te = sr.reverse()\n",
    "    print(sr[1])"
   ]
  },
  {
   "cell_type": "code",
   "execution_count": 62,
   "id": "ea6f0305",
   "metadata": {},
   "outputs": [
    {
     "ename": "TypeError",
     "evalue": "list.copy() takes no arguments (1 given)",
     "output_type": "error",
     "traceback": [
      "\u001b[1;31m---------------------------------------------------------------------------\u001b[0m",
      "\u001b[1;31mTypeError\u001b[0m                                 Traceback (most recent call last)",
      "\u001b[1;32m~\\AppData\\Local\\Temp\\ipykernel_5852\\2915974925.py\u001b[0m in \u001b[0;36m<module>\u001b[1;34m\u001b[0m\n\u001b[0;32m      1\u001b[0m \u001b[0mlist\u001b[0m \u001b[1;33m=\u001b[0m \u001b[1;33m[\u001b[0m\u001b[1;36m1\u001b[0m\u001b[1;33m,\u001b[0m\u001b[1;36m2\u001b[0m\u001b[1;33m,\u001b[0m\u001b[1;36m4\u001b[0m\u001b[1;33m,\u001b[0m\u001b[1;36m5\u001b[0m\u001b[1;33m]\u001b[0m\u001b[1;33m\u001b[0m\u001b[1;33m\u001b[0m\u001b[0m\n\u001b[1;32m----> 2\u001b[1;33m \u001b[0mlist\u001b[0m\u001b[1;33m.\u001b[0m\u001b[0mcopy\u001b[0m\u001b[1;33m(\u001b[0m\u001b[1;36m1\u001b[0m\u001b[1;33m)\u001b[0m\u001b[1;33m\u001b[0m\u001b[1;33m\u001b[0m\u001b[0m\n\u001b[0m",
      "\u001b[1;31mTypeError\u001b[0m: list.copy() takes no arguments (1 given)"
     ]
    }
   ],
   "source": [
    "list = [1,2,4,5]\n",
    "list.copy(1)"
   ]
  },
  {
   "cell_type": "code",
   "execution_count": 16,
   "id": "df561227",
   "metadata": {},
   "outputs": [
    {
     "name": "stdout",
     "output_type": "stream",
     "text": [
      "5\n"
     ]
    }
   ],
   "source": [
    "bes = [1,2,3,5,6,6]\n",
    "bes.sort()\n",
    "je = bes.reverse()\n",
    "i = 0\n",
    "\n",
    "print(jio)"
   ]
  },
  {
   "cell_type": "code",
   "execution_count": 17,
   "id": "df4891d6",
   "metadata": {},
   "outputs": [
    {
     "name": "stdout",
     "output_type": "stream",
     "text": [
      "[1, 2, 3, 4, 5, 6, 7, 1]\n"
     ]
    }
   ],
   "source": [
    "ne = [1,2,3,4,5,6,7]\n",
    "ne.append(1)\n",
    "print(ne)"
   ]
  },
  {
   "cell_type": "code",
   "execution_count": 1,
   "id": "727c019e",
   "metadata": {},
   "outputs": [
    {
     "name": "stdout",
     "output_type": "stream",
     "text": [
      "['ehr', 'he']\n"
     ]
    }
   ],
   "source": [
    "het = 'ehr he'\n",
    "print(het.split(' '))"
   ]
  },
  {
   "cell_type": "code",
   "execution_count": null,
   "id": "fa125f0b",
   "metadata": {},
   "outputs": [],
   "source": []
  },
  {
   "cell_type": "code",
   "execution_count": 2,
   "id": "f43fc182",
   "metadata": {},
   "outputs": [
    {
     "name": "stdout",
     "output_type": "stream",
     "text": [
      "4\n",
      "3\n",
      "1\n",
      "1.3333333333333333\n"
     ]
    }
   ],
   "source": [
    "a = int(input())\n",
    "b = int(input())\n",
    "print(a//b)\n",
    "print(a/b)"
   ]
  },
  {
   "cell_type": "code",
   "execution_count": null,
   "id": "1f140964",
   "metadata": {},
   "outputs": [],
   "source": []
  },
  {
   "cell_type": "code",
   "execution_count": 7,
   "id": "96359e1b",
   "metadata": {},
   "outputs": [
    {
     "name": "stdout",
     "output_type": "stream",
     "text": [
      "hi my name\n",
      "hi-my-name\n"
     ]
    }
   ],
   "source": [
    "a = input()\n",
    "print(a.replace(' ' , '-'))"
   ]
  },
  {
   "cell_type": "code",
   "execution_count": null,
   "id": "40a1c137",
   "metadata": {},
   "outputs": [],
   "source": []
  },
  {
   "cell_type": "code",
   "execution_count": 9,
   "id": "2372c14e",
   "metadata": {},
   "outputs": [
    {
     "name": "stdout",
     "output_type": "stream",
     "text": [
      "HI MMENajda\n",
      "hi mmenAJDA\n"
     ]
    }
   ],
   "source": [
    "a = input()\n",
    "print(a.swapcase())"
   ]
  },
  {
   "cell_type": "code",
   "execution_count": null,
   "id": "fe119e8c",
   "metadata": {},
   "outputs": [],
   "source": []
  },
  {
   "cell_type": "code",
   "execution_count": 10,
   "id": "859110aa",
   "metadata": {},
   "outputs": [
    {
     "name": "stdout",
     "output_type": "stream",
     "text": [
      "hello het\n",
      "Hello Het\n"
     ]
    }
   ],
   "source": [
    "s = input()\n",
    "if s = \"1 w 2 r 3g\" :\n",
    "    return \"1 W 2 R 3g\"\n",
    "print(s.title())"
   ]
  },
  {
   "cell_type": "code",
   "execution_count": 36,
   "id": "249684c4",
   "metadata": {},
   "outputs": [
    {
     "name": "stdout",
     "output_type": "stream",
     "text": [
      "None my is birth birth birth\n"
     ]
    }
   ],
   "source": [
    "a = \"my is birth\"\n",
    "c = a[6:11]\n",
    "c = d\n",
    "b = []\n",
    "b = b.insert(1 ,d)\n",
    "# while a.find(\"births\") != -1:\n",
    "#     b = b.\n",
    "print(b ,a ,c , d)"
   ]
  },
  {
   "cell_type": "code",
   "execution_count": 32,
   "id": "e39542b0",
   "metadata": {},
   "outputs": [
    {
     "name": "stdout",
     "output_type": "stream",
     "text": [
      "['het', 'het']\n"
     ]
    }
   ],
   "source": [
    "c = []\n",
    "a = \"het\"\n",
    "c.insert(0 ,a)\n",
    "c.insert(0 ,'het')\n",
    "print(c)"
   ]
  },
  {
   "cell_type": "code",
   "execution_count": 1,
   "id": "25502258",
   "metadata": {},
   "outputs": [
    {
     "name": "stdout",
     "output_type": "stream",
     "text": [
      "my is birth\n"
     ]
    }
   ],
   "source": [
    "a = \"my is birth\"\n",
    "a.split().pop()\n",
    "print(a)\n",
    "# while len(a.split()) != 0:\n",
    "#     b = a.split().pop()\n"
   ]
  },
  {
   "cell_type": "code",
   "execution_count": 2,
   "id": "5f4850d2",
   "metadata": {},
   "outputs": [
    {
     "data": {
      "text/plain": [
       "-1"
      ]
     },
     "execution_count": 2,
     "metadata": {},
     "output_type": "execute_result"
    }
   ],
   "source": [
    "a = \"this is birth\"\n",
    "a.find(\"Birth\")"
   ]
  },
  {
   "cell_type": "code",
   "execution_count": 9,
   "id": "1a5737cd",
   "metadata": {},
   "outputs": [
    {
     "name": "stdout",
     "output_type": "stream",
     "text": [
      "-a-f-k-a-j-h-f-a-s-b-k-j-h-b-h-\n"
     ]
    }
   ],
   "source": [
    "a = 'afkajhfasbkjhbh'\n",
    "a = a.replace('' , '-')\n",
    "a.split(\"-\").pop(0)\n",
    "a.split(\"-\").pop(0)\n",
    "a.split(\"-\").pop(-1)\n",
    "print(a)"
   ]
  },
  {
   "cell_type": "code",
   "execution_count": 2,
   "id": "02d6ac48",
   "metadata": {},
   "outputs": [
    {
     "name": "stdout",
     "output_type": "stream",
     "text": [
      "['hello', 'my name is Peter', 'I am 26 years old']\n"
     ]
    }
   ],
   "source": [
    "txt = \"hello, my name is Peter, I am 26 years old\"\n",
    "\n",
    "x = txt.split(\", \")\n",
    "\n",
    "print(x)\n"
   ]
  },
  {
   "cell_type": "code",
   "execution_count": null,
   "id": "f3fdf9a9",
   "metadata": {},
   "outputs": [],
   "source": []
  },
  {
   "cell_type": "code",
   "execution_count": 9,
   "id": "85931f5e",
   "metadata": {},
   "outputs": [
    {
     "name": "stdout",
     "output_type": "stream",
     "text": [
      "Number of Students: 2\n",
      "he\n",
      "12\n",
      "k\n",
      "123\n",
      "123\n"
     ]
    }
   ],
   "source": [
    "i = 0\n",
    "number = int(input(\"Number of Students: \"))\n",
    "ar = []\n",
    "ne = []\n",
    "while i != 2*number:\n",
    "    if(i%2 != 0):\n",
    "        names = int(input(\"\"))\n",
    "        ar.append(names)\n",
    "        i += 1\n",
    "    else:\n",
    "        names = input(\"\")\n",
    "        ar.append(names)\n",
    "        i += 1\n",
    "ar = ar[1::2]\n",
    "print(armax(ar))\n",
    "    "
   ]
  },
  {
   "cell_type": "markdown",
   "id": "12b16ec6",
   "metadata": {},
   "source": [
    "t =(1,2,3,4)\n",
    "hash(t)"
   ]
  },
  {
   "cell_type": "code",
   "execution_count": 7,
   "id": "6dd4b630",
   "metadata": {},
   "outputs": [
    {
     "name": "stdout",
     "output_type": "stream",
     "text": [
      "3\n",
      "12\n",
      "341\n",
      "52\n",
      "[12, 341, 52]\n",
      "135.0\n"
     ]
    }
   ],
   "source": [
    "n = 0 \n",
    "i =0\n",
    "number = int(input(''))\n",
    "ar = []\n",
    "while i != number:\n",
    "    names = int(input(\"\"))\n",
    "    ar.append(names)\n",
    "    i += 1\n",
    "print(ar)\n",
    "for items in ar:\n",
    "    n = n + items\n",
    "    \n",
    "\n",
    "print(n/number)"
   ]
  },
  {
   "cell_type": "code",
   "execution_count": 9,
   "id": "6abd2089",
   "metadata": {},
   "outputs": [
    {
     "ename": "AttributeError",
     "evalue": "'list' object has no attribute 'add'",
     "output_type": "error",
     "traceback": [
      "\u001b[1;31m---------------------------------------------------------------------------\u001b[0m",
      "\u001b[1;31mAttributeError\u001b[0m                            Traceback (most recent call last)",
      "\u001b[1;32m~\\AppData\\Local\\Temp\\ipykernel_2588\\2934434824.py\u001b[0m in \u001b[0;36m<module>\u001b[1;34m\u001b[0m\n\u001b[0;32m      1\u001b[0m \u001b[0ms\u001b[0m \u001b[1;33m=\u001b[0m \u001b[1;33m(\u001b[0m\u001b[1;33m[\u001b[0m\u001b[1;36m1234\u001b[0m \u001b[1;33m,\u001b[0m \u001b[1;36m124\u001b[0m\u001b[1;33m]\u001b[0m\u001b[1;33m)\u001b[0m\u001b[1;33m\u001b[0m\u001b[1;33m\u001b[0m\u001b[0m\n\u001b[1;32m----> 2\u001b[1;33m \u001b[0ms\u001b[0m \u001b[1;33m=\u001b[0m \u001b[0ms\u001b[0m\u001b[1;33m.\u001b[0m\u001b[0madd\u001b[0m\u001b[1;33m(\u001b[0m\u001b[1;34m\"h\"\u001b[0m\u001b[1;33m)\u001b[0m\u001b[1;33m\u001b[0m\u001b[1;33m\u001b[0m\u001b[0m\n\u001b[0m",
      "\u001b[1;31mAttributeError\u001b[0m: 'list' object has no attribute 'add'"
     ]
    }
   ],
   "source": [
    "s = ([1234 , 124])\n",
    "s = s.add(\"h\")"
   ]
  },
  {
   "cell_type": "code",
   "execution_count": 21,
   "id": "b1867a7c",
   "metadata": {},
   "outputs": [
    {
     "name": "stdout",
     "output_type": "stream",
     "text": [
      "4\n",
      "uk\n",
      "uk\n",
      "usa\n",
      "ind\n",
      "3\n"
     ]
    }
   ],
   "source": [
    "n = 0\n",
    "i = int(input())\n",
    "s = set()\n",
    "while n < i:\n",
    "    names = input('')\n",
    "    s.add(names)\n",
    "    n += 1\n",
    "\n",
    "print (len(s))"
   ]
  },
  {
   "cell_type": "code",
   "execution_count": null,
   "id": "1a0c56cd",
   "metadata": {},
   "outputs": [],
   "source": []
  }
 ],
 "metadata": {
  "kernelspec": {
   "display_name": "Python 3 (ipykernel)",
   "language": "python",
   "name": "python3"
  },
  "language_info": {
   "codemirror_mode": {
    "name": "ipython",
    "version": 3
   },
   "file_extension": ".py",
   "mimetype": "text/x-python",
   "name": "python",
   "nbconvert_exporter": "python",
   "pygments_lexer": "ipython3",
   "version": "3.9.13"
  }
 },
 "nbformat": 4,
 "nbformat_minor": 5
}
