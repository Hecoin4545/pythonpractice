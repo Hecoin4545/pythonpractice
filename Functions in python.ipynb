{
 "cells": [
  {
   "cell_type": "code",
   "execution_count": 1,
   "id": "5ede07a3",
   "metadata": {},
   "outputs": [],
   "source": [
    "#lerning about functions "
   ]
  },
  {
   "cell_type": "code",
   "execution_count": 4,
   "id": "ac6ab718",
   "metadata": {},
   "outputs": [],
   "source": [
    "def say_hello():\n",
    "    print('hello')\n",
    "    print('how are you')\n",
    "    print('if you ask me then i am fine')"
   ]
  },
  {
   "cell_type": "code",
   "execution_count": 5,
   "id": "619fdc39",
   "metadata": {},
   "outputs": [
    {
     "name": "stdout",
     "output_type": "stream",
     "text": [
      "hello\n",
      "how are you\n",
      "if you ask me then i am fine\n"
     ]
    }
   ],
   "source": [
    "say_hello()"
   ]
  },
  {
   "cell_type": "code",
   "execution_count": 8,
   "id": "cac2f2a4",
   "metadata": {},
   "outputs": [],
   "source": [
    "def say_hello(name='shah het'):\n",
    "    print(f'hello {name}')"
   ]
  },
  {
   "cell_type": "code",
   "execution_count": 10,
   "id": "653bcc8a",
   "metadata": {},
   "outputs": [
    {
     "name": "stdout",
     "output_type": "stream",
     "text": [
      "hello shah het\n"
     ]
    }
   ],
   "source": [
    "say_hello()"
   ]
  },
  {
   "cell_type": "code",
   "execution_count": 11,
   "id": "7036ba68",
   "metadata": {},
   "outputs": [],
   "source": [
    "def add_num(a,b):\n",
    "    return a+b"
   ]
  },
  {
   "cell_type": "code",
   "execution_count": 14,
   "id": "a300fee8",
   "metadata": {},
   "outputs": [],
   "source": [
    "result = add_num(1,2)"
   ]
  },
  {
   "cell_type": "raw",
   "id": "07ea6805",
   "metadata": {},
   "source": [
    "result"
   ]
  },
  {
   "cell_type": "code",
   "execution_count": 15,
   "id": "362c4870",
   "metadata": {},
   "outputs": [
    {
     "data": {
      "text/plain": [
       "3"
      ]
     },
     "execution_count": 15,
     "metadata": {},
     "output_type": "execute_result"
    }
   ],
   "source": [
    "result"
   ]
  },
  {
   "cell_type": "code",
   "execution_count": 16,
   "id": "c48f12de",
   "metadata": {},
   "outputs": [],
   "source": [
    "# so the basic difference between print and return are return function will save in the variable"
   ]
  },
  {
   "cell_type": "code",
   "execution_count": 21,
   "id": "7f421d14",
   "metadata": {},
   "outputs": [],
   "source": [
    "def even_num(a):\n",
    "    if a%2 == 0:\n",
    "        print(f'the {a} is even')\n",
    "    else:\n",
    "        print(f'The {a} is odd')\n",
    "    return a\n"
   ]
  },
  {
   "cell_type": "code",
   "execution_count": 23,
   "id": "10b061e5",
   "metadata": {},
   "outputs": [
    {
     "name": "stdout",
     "output_type": "stream",
     "text": [
      "the 10 is even\n"
     ]
    }
   ],
   "source": [
    "het = even_num(10)"
   ]
  },
  {
   "cell_type": "code",
   "execution_count": 25,
   "id": "a5a7e59a",
   "metadata": {},
   "outputs": [
    {
     "data": {
      "text/plain": [
       "10"
      ]
     },
     "execution_count": 25,
     "metadata": {},
     "output_type": "execute_result"
    }
   ],
   "source": [
    "het"
   ]
  },
  {
   "cell_type": "code",
   "execution_count": 54,
   "id": "60856511",
   "metadata": {},
   "outputs": [],
   "source": [
    "def even_num_list(listnumber):\n",
    "    for items,values in enumerate(listnumber):\n",
    "       if values %2 ==0:\n",
    "        print(values)\n",
    "       "
   ]
  },
  {
   "cell_type": "code",
   "execution_count": 56,
   "id": "02ae0262",
   "metadata": {},
   "outputs": [
    {
     "name": "stdout",
     "output_type": "stream",
     "text": [
      "2\n"
     ]
    }
   ],
   "source": [
    "even_num_list([1,3,7 , 2])"
   ]
  },
  {
   "cell_type": "code",
   "execution_count": 48,
   "id": "786b6d3d",
   "metadata": {},
   "outputs": [],
   "source": [
    "# function and tuple unpacking"
   ]
  },
  {
   "cell_type": "code",
   "execution_count": 49,
   "id": "f314acb6",
   "metadata": {},
   "outputs": [],
   "source": [
    "stock_prices = [('APPL',200),('GOOG',400),(\"micro\",100)]"
   ]
  },
  {
   "cell_type": "code",
   "execution_count": 50,
   "id": "3b37f932",
   "metadata": {},
   "outputs": [
    {
     "name": "stdout",
     "output_type": "stream",
     "text": [
      "('APPL', 200)\n",
      "('GOOG', 400)\n",
      "('micro', 100)\n"
     ]
    }
   ],
   "source": [
    "for items in stock_prices:\n",
    "    print(items)"
   ]
  },
  {
   "cell_type": "code",
   "execution_count": 57,
   "id": "f449dffb",
   "metadata": {},
   "outputs": [
    {
     "name": "stdout",
     "output_type": "stream",
     "text": [
      "220.0\n",
      "440.0\n",
      "110.0\n"
     ]
    }
   ],
   "source": [
    "for ticker,price in stock_prices:\n",
    "    print(price+(0.1*price))"
   ]
  },
  {
   "cell_type": "code",
   "execution_count": 58,
   "id": "c562e03b",
   "metadata": {},
   "outputs": [],
   "source": [
    "# work_hours = [('het',100),('preet',200),('kalp',300)]"
   ]
  },
  {
   "cell_type": "code",
   "execution_count": 59,
   "id": "26c0165a",
   "metadata": {},
   "outputs": [],
   "source": [
    "# def employ_check(work_hours):\n",
    "#     current_max = 0\n",
    "#     e_o_m = ''\n",
    "    \n",
    "#     return(e_o_m , current_max) "
   ]
  },
  {
   "cell_type": "code",
   "execution_count": 131,
   "id": "cb811df0",
   "metadata": {},
   "outputs": [],
   "source": [
    "work_hours = [('het',900),('kalp',100),('preet',200),('shlok',300) , ('aryan',1200)]"
   ]
  },
  {
   "cell_type": "code",
   "execution_count": 132,
   "id": "5ec449a1",
   "metadata": {},
   "outputs": [
    {
     "name": "stdout",
     "output_type": "stream",
     "text": [
      "('aryan', 1200)\n"
     ]
    }
   ],
   "source": [
    "myList = []  \n",
    "\n",
    "for names , salary in work_hours:\n",
    "    myList.append(salary)    \n",
    "for items in work_hours:\n",
    "    if items[1] == max(myList) :\n",
    "       print(items)"
   ]
  },
  {
   "cell_type": "code",
   "execution_count": null,
   "id": "73cc73d4",
   "metadata": {},
   "outputs": [],
   "source": [
    "# Question 1\n",
    "# Write a Python function to find the Max of three numbers"
   ]
  },
  {
   "cell_type": "code",
   "execution_count": 1,
   "id": "ef200b2d",
   "metadata": {},
   "outputs": [],
   "source": [
    "def max_number(*args):\n",
    "    return max(args)"
   ]
  },
  {
   "cell_type": "code",
   "execution_count": 2,
   "id": "b511f33a",
   "metadata": {},
   "outputs": [
    {
     "data": {
      "text/plain": [
       "2634"
      ]
     },
     "execution_count": 2,
     "metadata": {},
     "output_type": "execute_result"
    }
   ],
   "source": [
    "max_number(1,2,5,2634,1562,1523)"
   ]
  },
  {
   "cell_type": "code",
   "execution_count": 3,
   "id": "7935c88d",
   "metadata": {},
   "outputs": [],
   "source": [
    "# Question 2 \n",
    "# Write a Python function to sum all the numbers in a list."
   ]
  },
  {
   "cell_type": "code",
   "execution_count": 4,
   "id": "b6b62373",
   "metadata": {},
   "outputs": [],
   "source": [
    "def sum_of_list(*args):\n",
    "    return sum(args)"
   ]
  },
  {
   "cell_type": "code",
   "execution_count": 7,
   "id": "509d15ef",
   "metadata": {},
   "outputs": [
    {
     "data": {
      "text/plain": [
       "20"
      ]
     },
     "execution_count": 7,
     "metadata": {},
     "output_type": "execute_result"
    }
   ],
   "source": [
    "sum_of_list(8, 2, 3, 0, 7)"
   ]
  },
  {
   "cell_type": "code",
   "execution_count": 8,
   "id": "ef9322c0",
   "metadata": {},
   "outputs": [],
   "source": [
    "# Question 3\n",
    "#Write a Python function to multiply all the numbers in a list"
   ]
  },
  {
   "cell_type": "code",
   "execution_count": 18,
   "id": "248b9494",
   "metadata": {},
   "outputs": [],
   "source": [
    "def multiply_numbers(*args):\n",
    "    ini = 1\n",
    "    for items in args:\n",
    "        ini = items*ini\n",
    "    return ini"
   ]
  },
  {
   "cell_type": "code",
   "execution_count": 19,
   "id": "e3e34651",
   "metadata": {},
   "outputs": [
    {
     "data": {
      "text/plain": [
       "6"
      ]
     },
     "execution_count": 19,
     "metadata": {},
     "output_type": "execute_result"
    }
   ],
   "source": [
    "multiply_numbers(1,2,3)"
   ]
  },
  {
   "cell_type": "code",
   "execution_count": 20,
   "id": "605e2de2",
   "metadata": {},
   "outputs": [],
   "source": [
    "# Question 4\n",
    "#Write a Python program to reverse a string"
   ]
  },
  {
   "cell_type": "code",
   "execution_count": 43,
   "id": "bb4d6c48",
   "metadata": {},
   "outputs": [
    {
     "ename": "IndentationError",
     "evalue": "expected an indented block (940657571.py, line 3)",
     "output_type": "error",
     "traceback": [
      "\u001b[1;36m  File \u001b[1;32m\"C:\\Users\\Asus\\AppData\\Local\\Temp\\ipykernel_6356\\940657571.py\"\u001b[1;36m, line \u001b[1;32m3\u001b[0m\n\u001b[1;33m    fin = items[i]\u001b[0m\n\u001b[1;37m    ^\u001b[0m\n\u001b[1;31mIndentationError\u001b[0m\u001b[1;31m:\u001b[0m expected an indented block\n"
     ]
    }
   ],
   "source": [
    "\n",
    "\n",
    "           "
   ]
  },
  {
   "cell_type": "code",
   "execution_count": 42,
   "id": "f5b678aa",
   "metadata": {},
   "outputs": [
    {
     "ename": "NameError",
     "evalue": "name 'items' is not defined",
     "output_type": "error",
     "traceback": [
      "\u001b[1;31m---------------------------------------------------------------------------\u001b[0m",
      "\u001b[1;31mNameError\u001b[0m                                 Traceback (most recent call last)",
      "\u001b[1;32m~\\AppData\\Local\\Temp\\ipykernel_6356\\689556449.py\u001b[0m in \u001b[0;36m<module>\u001b[1;34m\u001b[0m\n\u001b[1;32m----> 1\u001b[1;33m \u001b[0mitems\u001b[0m\u001b[1;33m\u001b[0m\u001b[1;33m\u001b[0m\u001b[0m\n\u001b[0m",
      "\u001b[1;31mNameError\u001b[0m: name 'items' is not defined"
     ]
    }
   ],
   "source": []
  },
  {
   "cell_type": "code",
   "execution_count": null,
   "id": "5019b98b",
   "metadata": {},
   "outputs": [],
   "source": []
  }
 ],
 "metadata": {
  "kernelspec": {
   "display_name": "Python 3 (ipykernel)",
   "language": "python",
   "name": "python3"
  },
  "language_info": {
   "codemirror_mode": {
    "name": "ipython",
    "version": 3
   },
   "file_extension": ".py",
   "mimetype": "text/x-python",
   "name": "python",
   "nbconvert_exporter": "python",
   "pygments_lexer": "ipython3",
   "version": "3.9.13"
  }
 },
 "nbformat": 4,
 "nbformat_minor": 5
}
