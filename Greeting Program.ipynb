{
 "cells": [
  {
   "cell_type": "code",
   "execution_count": 8,
   "id": "4ab5f7dd",
   "metadata": {},
   "outputs": [
    {
     "name": "stdout",
     "output_type": "stream",
     "text": [
      "Please Enter Your Name: het\n",
      "When Do You Want To Code het ?\n",
      " 'm' for 'morning'\n",
      " 'a' for 'afternoon'\n",
      " 'e' for 'evening'm\n",
      "Hello het , Good Evening \n"
     ]
    }
   ],
   "source": [
    "from datetime import datetime\n",
    "present_date_time = datetime.now()\n",
    "present_hour = int(present_date_time.strftime(\"%H\"))\n",
    "\n",
    "name = input('Please Enter Your Name: ')\n",
    "reminder = input(\"When Do You Want To Code {} ?\\n 'm' for 'morning'\\n 'a' for 'afternoon'\\n 'e' for 'evening'\".format(name))\n",
    "\n",
    "if(present_hour > 12 and present_hour <= 18):\n",
    "  print('Hello {} , Good AfterNoon ' .format(name))\n",
    "  if(reminder == 'a'):\n",
    "        print(\"Reminder {}:  Get To Code\\nIt's Not You, Not The People But The Self Doubt That Kills You\" .format(name))\n",
    "elif(present_hour > 18 and present_hour <= 24):\n",
    "  print('Hello {} , Good Evening ' .format(name))\n",
    "  if(reminder == 'e'):\n",
    "    print('Reminder {} , Get To Code \\nIt is Not You, Not The People But The Self Doubt That Kills You' .format(name))\n",
    "else:\n",
    "  print('Hello {} , Good Morning' .format(name))\n",
    "  if(reminder == 'm'):\n",
    "        print(\"Reminder {}:  Get To Code\\nIt's Not You, Not The People But The Self Doubt That Kills You\".foramt(name))\n"
   ]
  },
  {
   "cell_type": "code",
   "execution_count": 3,
   "id": "18cc544a",
   "metadata": {},
   "outputs": [],
   "source": [
    "# Step 1 : Get Hours And Set If Else Statement Acc. to The Time \n",
    "# Step 2 : Ask The User When They Will Code , Study , Sleep and Enjoy \n",
    "# Step 3 : Acc. To What User Chooses Add The Quote And Remind Them What To Do \n"
   ]
  },
  {
   "cell_type": "code",
   "execution_count": 11,
   "id": "a8e27d55",
   "metadata": {},
   "outputs": [],
   "source": []
  },
  {
   "cell_type": "code",
   "execution_count": null,
   "id": "41c7afdf",
   "metadata": {},
   "outputs": [],
   "source": []
  }
 ],
 "metadata": {
  "kernelspec": {
   "display_name": "Python 3 (ipykernel)",
   "language": "python",
   "name": "python3"
  },
  "language_info": {
   "codemirror_mode": {
    "name": "ipython",
    "version": 3
   },
   "file_extension": ".py",
   "mimetype": "text/x-python",
   "name": "python",
   "nbconvert_exporter": "python",
   "pygments_lexer": "ipython3",
   "version": "3.9.13"
  }
 },
 "nbformat": 4,
 "nbformat_minor": 5
}
